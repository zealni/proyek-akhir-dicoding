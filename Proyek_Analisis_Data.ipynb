{
  "cells": [
    {
      "cell_type": "markdown",
      "metadata": {
        "id": "H9wADwK78DCz"
      },
      "source": [
        "# Proyek Analisis Data: [Bike Sharing Dataset]\n",
        "- **Nama:** Arief setiawan\n",
        "- **Email:** mc189d5y1641@student.devacademy.id\n",
        "- **ID Dicoding:** MC189D5Y1641"
      ]
    },
    {
      "cell_type": "markdown",
      "metadata": {
        "id": "eE0raob58DC0"
      },
      "source": [
        "## Menentukan Pertanyaan Bisnis"
      ]
    },
    {
      "cell_type": "markdown",
      "metadata": {
        "id": "GmQeQ5YF8DC0"
      },
      "source": [
        "- Bagaimana pola peminjaman sepeda berdasarkan musim (musim panas, dingin, gugur, semi)?\n",
        "- Seberapa besar pengaruh cuaca ekstrem terhadap jumlah peminjaman sepeda?\n",
        "- Apakah ada tren peningkatan atau penurunan peminjaman dari tahun ke tahun?"
      ]
    },
    {
      "cell_type": "markdown",
      "metadata": {
        "id": "H-z4QGlO8DC1"
      },
      "source": [
        "## Import Semua Packages/Library yang Digunakan"
      ]
    },
    {
      "cell_type": "code",
      "execution_count": 25,
      "metadata": {
        "id": "FVYwaObI8DC1"
      },
      "outputs": [],
      "source": [
        "import pandas as pd\n",
        "import numpy as np\n",
        "import matplotlib.pyplot as plt\n",
        "import seaborn as sns"
      ]
    },
    {
      "cell_type": "markdown",
      "metadata": {
        "id": "h_Sh51Xy8DC1"
      },
      "source": [
        "## Data Wrangling"
      ]
    },
    {
      "cell_type": "markdown",
      "metadata": {
        "id": "sXU2GBYu8DC1"
      },
      "source": [
        "### Gathering Data"
      ]
    },
    {
      "cell_type": "code",
      "execution_count": 26,
      "metadata": {
        "id": "zjCBk1BI8DC1"
      },
      "outputs": [
        {
          "data": {
            "application/vnd.microsoft.datawrangler.viewer.v0+json": {
              "columns": [
                {
                  "name": "index",
                  "rawType": "int64",
                  "type": "integer"
                },
                {
                  "name": "instant",
                  "rawType": "int64",
                  "type": "integer"
                },
                {
                  "name": "dteday",
                  "rawType": "object",
                  "type": "string"
                },
                {
                  "name": "season",
                  "rawType": "int64",
                  "type": "integer"
                },
                {
                  "name": "yr",
                  "rawType": "int64",
                  "type": "integer"
                },
                {
                  "name": "mnth",
                  "rawType": "int64",
                  "type": "integer"
                },
                {
                  "name": "holiday",
                  "rawType": "int64",
                  "type": "integer"
                },
                {
                  "name": "weekday",
                  "rawType": "int64",
                  "type": "integer"
                },
                {
                  "name": "workingday",
                  "rawType": "int64",
                  "type": "integer"
                },
                {
                  "name": "weathersit",
                  "rawType": "int64",
                  "type": "integer"
                },
                {
                  "name": "temp",
                  "rawType": "float64",
                  "type": "float"
                },
                {
                  "name": "atemp",
                  "rawType": "float64",
                  "type": "float"
                },
                {
                  "name": "hum",
                  "rawType": "float64",
                  "type": "float"
                },
                {
                  "name": "windspeed",
                  "rawType": "float64",
                  "type": "float"
                },
                {
                  "name": "casual",
                  "rawType": "int64",
                  "type": "integer"
                },
                {
                  "name": "registered",
                  "rawType": "int64",
                  "type": "integer"
                },
                {
                  "name": "cnt",
                  "rawType": "int64",
                  "type": "integer"
                }
              ],
              "conversionMethod": "pd.DataFrame",
              "ref": "0feb75dd-f11c-498d-9a14-a062d764abe3",
              "rows": [
                [
                  "0",
                  "1",
                  "2011-01-01",
                  "1",
                  "0",
                  "1",
                  "0",
                  "6",
                  "0",
                  "2",
                  "0.344167",
                  "0.363625",
                  "0.805833",
                  "0.160446",
                  "331",
                  "654",
                  "985"
                ],
                [
                  "1",
                  "2",
                  "2011-01-02",
                  "1",
                  "0",
                  "1",
                  "0",
                  "0",
                  "0",
                  "2",
                  "0.363478",
                  "0.353739",
                  "0.696087",
                  "0.248539",
                  "131",
                  "670",
                  "801"
                ],
                [
                  "2",
                  "3",
                  "2011-01-03",
                  "1",
                  "0",
                  "1",
                  "0",
                  "1",
                  "1",
                  "1",
                  "0.196364",
                  "0.189405",
                  "0.437273",
                  "0.248309",
                  "120",
                  "1229",
                  "1349"
                ],
                [
                  "3",
                  "4",
                  "2011-01-04",
                  "1",
                  "0",
                  "1",
                  "0",
                  "2",
                  "1",
                  "1",
                  "0.2",
                  "0.212122",
                  "0.590435",
                  "0.160296",
                  "108",
                  "1454",
                  "1562"
                ],
                [
                  "4",
                  "5",
                  "2011-01-05",
                  "1",
                  "0",
                  "1",
                  "0",
                  "3",
                  "1",
                  "1",
                  "0.226957",
                  "0.22927",
                  "0.436957",
                  "0.1869",
                  "82",
                  "1518",
                  "1600"
                ]
              ],
              "shape": {
                "columns": 16,
                "rows": 5
              }
            },
            "text/html": [
              "<div>\n",
              "<style scoped>\n",
              "    .dataframe tbody tr th:only-of-type {\n",
              "        vertical-align: middle;\n",
              "    }\n",
              "\n",
              "    .dataframe tbody tr th {\n",
              "        vertical-align: top;\n",
              "    }\n",
              "\n",
              "    .dataframe thead th {\n",
              "        text-align: right;\n",
              "    }\n",
              "</style>\n",
              "<table border=\"1\" class=\"dataframe\">\n",
              "  <thead>\n",
              "    <tr style=\"text-align: right;\">\n",
              "      <th></th>\n",
              "      <th>instant</th>\n",
              "      <th>dteday</th>\n",
              "      <th>season</th>\n",
              "      <th>yr</th>\n",
              "      <th>mnth</th>\n",
              "      <th>holiday</th>\n",
              "      <th>weekday</th>\n",
              "      <th>workingday</th>\n",
              "      <th>weathersit</th>\n",
              "      <th>temp</th>\n",
              "      <th>atemp</th>\n",
              "      <th>hum</th>\n",
              "      <th>windspeed</th>\n",
              "      <th>casual</th>\n",
              "      <th>registered</th>\n",
              "      <th>cnt</th>\n",
              "    </tr>\n",
              "  </thead>\n",
              "  <tbody>\n",
              "    <tr>\n",
              "      <th>0</th>\n",
              "      <td>1</td>\n",
              "      <td>2011-01-01</td>\n",
              "      <td>1</td>\n",
              "      <td>0</td>\n",
              "      <td>1</td>\n",
              "      <td>0</td>\n",
              "      <td>6</td>\n",
              "      <td>0</td>\n",
              "      <td>2</td>\n",
              "      <td>0.344167</td>\n",
              "      <td>0.363625</td>\n",
              "      <td>0.805833</td>\n",
              "      <td>0.160446</td>\n",
              "      <td>331</td>\n",
              "      <td>654</td>\n",
              "      <td>985</td>\n",
              "    </tr>\n",
              "    <tr>\n",
              "      <th>1</th>\n",
              "      <td>2</td>\n",
              "      <td>2011-01-02</td>\n",
              "      <td>1</td>\n",
              "      <td>0</td>\n",
              "      <td>1</td>\n",
              "      <td>0</td>\n",
              "      <td>0</td>\n",
              "      <td>0</td>\n",
              "      <td>2</td>\n",
              "      <td>0.363478</td>\n",
              "      <td>0.353739</td>\n",
              "      <td>0.696087</td>\n",
              "      <td>0.248539</td>\n",
              "      <td>131</td>\n",
              "      <td>670</td>\n",
              "      <td>801</td>\n",
              "    </tr>\n",
              "    <tr>\n",
              "      <th>2</th>\n",
              "      <td>3</td>\n",
              "      <td>2011-01-03</td>\n",
              "      <td>1</td>\n",
              "      <td>0</td>\n",
              "      <td>1</td>\n",
              "      <td>0</td>\n",
              "      <td>1</td>\n",
              "      <td>1</td>\n",
              "      <td>1</td>\n",
              "      <td>0.196364</td>\n",
              "      <td>0.189405</td>\n",
              "      <td>0.437273</td>\n",
              "      <td>0.248309</td>\n",
              "      <td>120</td>\n",
              "      <td>1229</td>\n",
              "      <td>1349</td>\n",
              "    </tr>\n",
              "    <tr>\n",
              "      <th>3</th>\n",
              "      <td>4</td>\n",
              "      <td>2011-01-04</td>\n",
              "      <td>1</td>\n",
              "      <td>0</td>\n",
              "      <td>1</td>\n",
              "      <td>0</td>\n",
              "      <td>2</td>\n",
              "      <td>1</td>\n",
              "      <td>1</td>\n",
              "      <td>0.200000</td>\n",
              "      <td>0.212122</td>\n",
              "      <td>0.590435</td>\n",
              "      <td>0.160296</td>\n",
              "      <td>108</td>\n",
              "      <td>1454</td>\n",
              "      <td>1562</td>\n",
              "    </tr>\n",
              "    <tr>\n",
              "      <th>4</th>\n",
              "      <td>5</td>\n",
              "      <td>2011-01-05</td>\n",
              "      <td>1</td>\n",
              "      <td>0</td>\n",
              "      <td>1</td>\n",
              "      <td>0</td>\n",
              "      <td>3</td>\n",
              "      <td>1</td>\n",
              "      <td>1</td>\n",
              "      <td>0.226957</td>\n",
              "      <td>0.229270</td>\n",
              "      <td>0.436957</td>\n",
              "      <td>0.186900</td>\n",
              "      <td>82</td>\n",
              "      <td>1518</td>\n",
              "      <td>1600</td>\n",
              "    </tr>\n",
              "  </tbody>\n",
              "</table>\n",
              "</div>"
            ],
            "text/plain": [
              "   instant      dteday  season  yr  mnth  holiday  weekday  workingday  \\\n",
              "0        1  2011-01-01       1   0     1        0        6           0   \n",
              "1        2  2011-01-02       1   0     1        0        0           0   \n",
              "2        3  2011-01-03       1   0     1        0        1           1   \n",
              "3        4  2011-01-04       1   0     1        0        2           1   \n",
              "4        5  2011-01-05       1   0     1        0        3           1   \n",
              "\n",
              "   weathersit      temp     atemp       hum  windspeed  casual  registered  \\\n",
              "0           2  0.344167  0.363625  0.805833   0.160446     331         654   \n",
              "1           2  0.363478  0.353739  0.696087   0.248539     131         670   \n",
              "2           1  0.196364  0.189405  0.437273   0.248309     120        1229   \n",
              "3           1  0.200000  0.212122  0.590435   0.160296     108        1454   \n",
              "4           1  0.226957  0.229270  0.436957   0.186900      82        1518   \n",
              "\n",
              "    cnt  \n",
              "0   985  \n",
              "1   801  \n",
              "2  1349  \n",
              "3  1562  \n",
              "4  1600  "
            ]
          },
          "execution_count": 26,
          "metadata": {},
          "output_type": "execute_result"
        }
      ],
      "source": [
        "day_df=pd.read_csv('data/day.csv')\n",
        "day_df.head()   "
      ]
    },
    {
      "cell_type": "code",
      "execution_count": 27,
      "metadata": {},
      "outputs": [
        {
          "data": {
            "application/vnd.microsoft.datawrangler.viewer.v0+json": {
              "columns": [
                {
                  "name": "index",
                  "rawType": "int64",
                  "type": "integer"
                },
                {
                  "name": "instant",
                  "rawType": "int64",
                  "type": "integer"
                },
                {
                  "name": "dteday",
                  "rawType": "object",
                  "type": "string"
                },
                {
                  "name": "season",
                  "rawType": "int64",
                  "type": "integer"
                },
                {
                  "name": "yr",
                  "rawType": "int64",
                  "type": "integer"
                },
                {
                  "name": "mnth",
                  "rawType": "int64",
                  "type": "integer"
                },
                {
                  "name": "hr",
                  "rawType": "int64",
                  "type": "integer"
                },
                {
                  "name": "holiday",
                  "rawType": "int64",
                  "type": "integer"
                },
                {
                  "name": "weekday",
                  "rawType": "int64",
                  "type": "integer"
                },
                {
                  "name": "workingday",
                  "rawType": "int64",
                  "type": "integer"
                },
                {
                  "name": "weathersit",
                  "rawType": "int64",
                  "type": "integer"
                },
                {
                  "name": "temp",
                  "rawType": "float64",
                  "type": "float"
                },
                {
                  "name": "atemp",
                  "rawType": "float64",
                  "type": "float"
                },
                {
                  "name": "hum",
                  "rawType": "float64",
                  "type": "float"
                },
                {
                  "name": "windspeed",
                  "rawType": "float64",
                  "type": "float"
                },
                {
                  "name": "casual",
                  "rawType": "int64",
                  "type": "integer"
                },
                {
                  "name": "registered",
                  "rawType": "int64",
                  "type": "integer"
                },
                {
                  "name": "cnt",
                  "rawType": "int64",
                  "type": "integer"
                }
              ],
              "conversionMethod": "pd.DataFrame",
              "ref": "14842f39-771a-4277-9df1-76f93ce30778",
              "rows": [
                [
                  "0",
                  "1",
                  "2011-01-01",
                  "1",
                  "0",
                  "1",
                  "0",
                  "0",
                  "6",
                  "0",
                  "1",
                  "0.24",
                  "0.2879",
                  "0.81",
                  "0.0",
                  "3",
                  "13",
                  "16"
                ],
                [
                  "1",
                  "2",
                  "2011-01-01",
                  "1",
                  "0",
                  "1",
                  "1",
                  "0",
                  "6",
                  "0",
                  "1",
                  "0.22",
                  "0.2727",
                  "0.8",
                  "0.0",
                  "8",
                  "32",
                  "40"
                ],
                [
                  "2",
                  "3",
                  "2011-01-01",
                  "1",
                  "0",
                  "1",
                  "2",
                  "0",
                  "6",
                  "0",
                  "1",
                  "0.22",
                  "0.2727",
                  "0.8",
                  "0.0",
                  "5",
                  "27",
                  "32"
                ],
                [
                  "3",
                  "4",
                  "2011-01-01",
                  "1",
                  "0",
                  "1",
                  "3",
                  "0",
                  "6",
                  "0",
                  "1",
                  "0.24",
                  "0.2879",
                  "0.75",
                  "0.0",
                  "3",
                  "10",
                  "13"
                ],
                [
                  "4",
                  "5",
                  "2011-01-01",
                  "1",
                  "0",
                  "1",
                  "4",
                  "0",
                  "6",
                  "0",
                  "1",
                  "0.24",
                  "0.2879",
                  "0.75",
                  "0.0",
                  "0",
                  "1",
                  "1"
                ]
              ],
              "shape": {
                "columns": 17,
                "rows": 5
              }
            },
            "text/html": [
              "<div>\n",
              "<style scoped>\n",
              "    .dataframe tbody tr th:only-of-type {\n",
              "        vertical-align: middle;\n",
              "    }\n",
              "\n",
              "    .dataframe tbody tr th {\n",
              "        vertical-align: top;\n",
              "    }\n",
              "\n",
              "    .dataframe thead th {\n",
              "        text-align: right;\n",
              "    }\n",
              "</style>\n",
              "<table border=\"1\" class=\"dataframe\">\n",
              "  <thead>\n",
              "    <tr style=\"text-align: right;\">\n",
              "      <th></th>\n",
              "      <th>instant</th>\n",
              "      <th>dteday</th>\n",
              "      <th>season</th>\n",
              "      <th>yr</th>\n",
              "      <th>mnth</th>\n",
              "      <th>hr</th>\n",
              "      <th>holiday</th>\n",
              "      <th>weekday</th>\n",
              "      <th>workingday</th>\n",
              "      <th>weathersit</th>\n",
              "      <th>temp</th>\n",
              "      <th>atemp</th>\n",
              "      <th>hum</th>\n",
              "      <th>windspeed</th>\n",
              "      <th>casual</th>\n",
              "      <th>registered</th>\n",
              "      <th>cnt</th>\n",
              "    </tr>\n",
              "  </thead>\n",
              "  <tbody>\n",
              "    <tr>\n",
              "      <th>0</th>\n",
              "      <td>1</td>\n",
              "      <td>2011-01-01</td>\n",
              "      <td>1</td>\n",
              "      <td>0</td>\n",
              "      <td>1</td>\n",
              "      <td>0</td>\n",
              "      <td>0</td>\n",
              "      <td>6</td>\n",
              "      <td>0</td>\n",
              "      <td>1</td>\n",
              "      <td>0.24</td>\n",
              "      <td>0.2879</td>\n",
              "      <td>0.81</td>\n",
              "      <td>0.0</td>\n",
              "      <td>3</td>\n",
              "      <td>13</td>\n",
              "      <td>16</td>\n",
              "    </tr>\n",
              "    <tr>\n",
              "      <th>1</th>\n",
              "      <td>2</td>\n",
              "      <td>2011-01-01</td>\n",
              "      <td>1</td>\n",
              "      <td>0</td>\n",
              "      <td>1</td>\n",
              "      <td>1</td>\n",
              "      <td>0</td>\n",
              "      <td>6</td>\n",
              "      <td>0</td>\n",
              "      <td>1</td>\n",
              "      <td>0.22</td>\n",
              "      <td>0.2727</td>\n",
              "      <td>0.80</td>\n",
              "      <td>0.0</td>\n",
              "      <td>8</td>\n",
              "      <td>32</td>\n",
              "      <td>40</td>\n",
              "    </tr>\n",
              "    <tr>\n",
              "      <th>2</th>\n",
              "      <td>3</td>\n",
              "      <td>2011-01-01</td>\n",
              "      <td>1</td>\n",
              "      <td>0</td>\n",
              "      <td>1</td>\n",
              "      <td>2</td>\n",
              "      <td>0</td>\n",
              "      <td>6</td>\n",
              "      <td>0</td>\n",
              "      <td>1</td>\n",
              "      <td>0.22</td>\n",
              "      <td>0.2727</td>\n",
              "      <td>0.80</td>\n",
              "      <td>0.0</td>\n",
              "      <td>5</td>\n",
              "      <td>27</td>\n",
              "      <td>32</td>\n",
              "    </tr>\n",
              "    <tr>\n",
              "      <th>3</th>\n",
              "      <td>4</td>\n",
              "      <td>2011-01-01</td>\n",
              "      <td>1</td>\n",
              "      <td>0</td>\n",
              "      <td>1</td>\n",
              "      <td>3</td>\n",
              "      <td>0</td>\n",
              "      <td>6</td>\n",
              "      <td>0</td>\n",
              "      <td>1</td>\n",
              "      <td>0.24</td>\n",
              "      <td>0.2879</td>\n",
              "      <td>0.75</td>\n",
              "      <td>0.0</td>\n",
              "      <td>3</td>\n",
              "      <td>10</td>\n",
              "      <td>13</td>\n",
              "    </tr>\n",
              "    <tr>\n",
              "      <th>4</th>\n",
              "      <td>5</td>\n",
              "      <td>2011-01-01</td>\n",
              "      <td>1</td>\n",
              "      <td>0</td>\n",
              "      <td>1</td>\n",
              "      <td>4</td>\n",
              "      <td>0</td>\n",
              "      <td>6</td>\n",
              "      <td>0</td>\n",
              "      <td>1</td>\n",
              "      <td>0.24</td>\n",
              "      <td>0.2879</td>\n",
              "      <td>0.75</td>\n",
              "      <td>0.0</td>\n",
              "      <td>0</td>\n",
              "      <td>1</td>\n",
              "      <td>1</td>\n",
              "    </tr>\n",
              "  </tbody>\n",
              "</table>\n",
              "</div>"
            ],
            "text/plain": [
              "   instant      dteday  season  yr  mnth  hr  holiday  weekday  workingday  \\\n",
              "0        1  2011-01-01       1   0     1   0        0        6           0   \n",
              "1        2  2011-01-01       1   0     1   1        0        6           0   \n",
              "2        3  2011-01-01       1   0     1   2        0        6           0   \n",
              "3        4  2011-01-01       1   0     1   3        0        6           0   \n",
              "4        5  2011-01-01       1   0     1   4        0        6           0   \n",
              "\n",
              "   weathersit  temp   atemp   hum  windspeed  casual  registered  cnt  \n",
              "0           1  0.24  0.2879  0.81        0.0       3          13   16  \n",
              "1           1  0.22  0.2727  0.80        0.0       8          32   40  \n",
              "2           1  0.22  0.2727  0.80        0.0       5          27   32  \n",
              "3           1  0.24  0.2879  0.75        0.0       3          10   13  \n",
              "4           1  0.24  0.2879  0.75        0.0       0           1    1  "
            ]
          },
          "execution_count": 27,
          "metadata": {},
          "output_type": "execute_result"
        }
      ],
      "source": [
        "hour_df=pd.read_csv('data/hour.csv')\n",
        "hour_df.head()"
      ]
    },
    {
      "cell_type": "markdown",
      "metadata": {
        "id": "FHSiqaZp8DC1"
      },
      "source": [
        "### Assessing Data"
      ]
    },
    {
      "cell_type": "markdown",
      "metadata": {},
      "source": [
        "#### Assessing Data Day"
      ]
    },
    {
      "cell_type": "code",
      "execution_count": 28,
      "metadata": {
        "id": "ax-3tEjc9Cj1"
      },
      "outputs": [
        {
          "name": "stdout",
          "output_type": "stream",
          "text": [
            "<class 'pandas.core.frame.DataFrame'>\n",
            "RangeIndex: 731 entries, 0 to 730\n",
            "Data columns (total 16 columns):\n",
            " #   Column      Non-Null Count  Dtype  \n",
            "---  ------      --------------  -----  \n",
            " 0   instant     731 non-null    int64  \n",
            " 1   dteday      731 non-null    object \n",
            " 2   season      731 non-null    int64  \n",
            " 3   yr          731 non-null    int64  \n",
            " 4   mnth        731 non-null    int64  \n",
            " 5   holiday     731 non-null    int64  \n",
            " 6   weekday     731 non-null    int64  \n",
            " 7   workingday  731 non-null    int64  \n",
            " 8   weathersit  731 non-null    int64  \n",
            " 9   temp        731 non-null    float64\n",
            " 10  atemp       731 non-null    float64\n",
            " 11  hum         731 non-null    float64\n",
            " 12  windspeed   731 non-null    float64\n",
            " 13  casual      731 non-null    int64  \n",
            " 14  registered  731 non-null    int64  \n",
            " 15  cnt         731 non-null    int64  \n",
            "dtypes: float64(4), int64(11), object(1)\n",
            "memory usage: 91.5+ KB\n"
          ]
        },
        {
          "data": {
            "text/plain": [
              "instant       0\n",
              "dteday        0\n",
              "season        0\n",
              "yr            0\n",
              "mnth          0\n",
              "holiday       0\n",
              "weekday       0\n",
              "workingday    0\n",
              "weathersit    0\n",
              "temp          0\n",
              "atemp         0\n",
              "hum           0\n",
              "windspeed     0\n",
              "casual        0\n",
              "registered    0\n",
              "cnt           0\n",
              "dtype: int64"
            ]
          },
          "execution_count": 28,
          "metadata": {},
          "output_type": "execute_result"
        }
      ],
      "source": [
        "day_df.info()\n",
        "day_df.isnull().sum()"
      ]
    },
    {
      "cell_type": "markdown",
      "metadata": {},
      "source": [
        "- Pada saat menampilkan data.info yang menampilkan jenis jenis data dari setiap kolom terdapat suatu keanehan. Yaitu dimana kolom dteday yang harusnya bertipe data datetime karena berisikan tanggal dan hari, tetapi pada info berisikan object.\n",
        "- Pada saat pengecekan data yang null atau kosong ternyata tidak ada data yang bernilai null atau kosong."
      ]
    },
    {
      "cell_type": "code",
      "execution_count": 29,
      "metadata": {},
      "outputs": [
        {
          "data": {
            "application/vnd.microsoft.datawrangler.viewer.v0+json": {
              "columns": [
                {
                  "name": "index",
                  "rawType": "object",
                  "type": "string"
                },
                {
                  "name": "instant",
                  "rawType": "float64",
                  "type": "float"
                },
                {
                  "name": "season",
                  "rawType": "float64",
                  "type": "float"
                },
                {
                  "name": "yr",
                  "rawType": "float64",
                  "type": "float"
                },
                {
                  "name": "mnth",
                  "rawType": "float64",
                  "type": "float"
                },
                {
                  "name": "holiday",
                  "rawType": "float64",
                  "type": "float"
                },
                {
                  "name": "weekday",
                  "rawType": "float64",
                  "type": "float"
                },
                {
                  "name": "workingday",
                  "rawType": "float64",
                  "type": "float"
                },
                {
                  "name": "weathersit",
                  "rawType": "float64",
                  "type": "float"
                },
                {
                  "name": "temp",
                  "rawType": "float64",
                  "type": "float"
                },
                {
                  "name": "atemp",
                  "rawType": "float64",
                  "type": "float"
                },
                {
                  "name": "hum",
                  "rawType": "float64",
                  "type": "float"
                },
                {
                  "name": "windspeed",
                  "rawType": "float64",
                  "type": "float"
                },
                {
                  "name": "casual",
                  "rawType": "float64",
                  "type": "float"
                },
                {
                  "name": "registered",
                  "rawType": "float64",
                  "type": "float"
                },
                {
                  "name": "cnt",
                  "rawType": "float64",
                  "type": "float"
                }
              ],
              "conversionMethod": "pd.DataFrame",
              "ref": "a801abac-4cfe-49ad-a811-8b681f1ca27e",
              "rows": [
                [
                  "count",
                  "731.0",
                  "731.0",
                  "731.0",
                  "731.0",
                  "731.0",
                  "731.0",
                  "731.0",
                  "731.0",
                  "731.0",
                  "731.0",
                  "731.0",
                  "731.0",
                  "731.0",
                  "731.0",
                  "731.0"
                ],
                [
                  "mean",
                  "366.0",
                  "2.496580027359781",
                  "0.5006839945280438",
                  "6.519835841313269",
                  "0.028727770177838577",
                  "2.997264021887825",
                  "0.6839945280437757",
                  "1.3953488372093024",
                  "0.495384788508892",
                  "0.47435398864569084",
                  "0.6278940629274967",
                  "0.190486211627907",
                  "848.1764705882352",
                  "3656.172366621067",
                  "4504.3488372093025"
                ],
                [
                  "std",
                  "211.16581162678773",
                  "1.1108070927726255",
                  "0.5003418803818264",
                  "3.4519127872562527",
                  "0.16715474262247382",
                  "2.0047869179444824",
                  "0.4652333866777036",
                  "0.5448943419593665",
                  "0.18305099611148878",
                  "0.1629611783863113",
                  "0.14242909513835394",
                  "0.07749787068166941",
                  "686.622488284655",
                  "1560.2563770194536",
                  "1937.2114516187676"
                ],
                [
                  "min",
                  "1.0",
                  "1.0",
                  "0.0",
                  "1.0",
                  "0.0",
                  "0.0",
                  "0.0",
                  "1.0",
                  "0.0591304",
                  "0.0790696",
                  "0.0",
                  "0.0223917",
                  "2.0",
                  "20.0",
                  "22.0"
                ],
                [
                  "25%",
                  "183.5",
                  "2.0",
                  "0.0",
                  "4.0",
                  "0.0",
                  "1.0",
                  "0.0",
                  "1.0",
                  "0.3370835",
                  "0.3378425",
                  "0.52",
                  "0.13495",
                  "315.5",
                  "2497.0",
                  "3152.0"
                ],
                [
                  "50%",
                  "366.0",
                  "3.0",
                  "1.0",
                  "7.0",
                  "0.0",
                  "3.0",
                  "1.0",
                  "1.0",
                  "0.498333",
                  "0.486733",
                  "0.626667",
                  "0.180975",
                  "713.0",
                  "3662.0",
                  "4548.0"
                ],
                [
                  "75%",
                  "548.5",
                  "3.0",
                  "1.0",
                  "10.0",
                  "0.0",
                  "5.0",
                  "1.0",
                  "2.0",
                  "0.6554165000000001",
                  "0.6086020000000001",
                  "0.7302085",
                  "0.2332145",
                  "1096.0",
                  "4776.5",
                  "5956.0"
                ],
                [
                  "max",
                  "731.0",
                  "4.0",
                  "1.0",
                  "12.0",
                  "1.0",
                  "6.0",
                  "1.0",
                  "3.0",
                  "0.861667",
                  "0.840896",
                  "0.9725",
                  "0.507463",
                  "3410.0",
                  "6946.0",
                  "8714.0"
                ]
              ],
              "shape": {
                "columns": 15,
                "rows": 8
              }
            },
            "text/html": [
              "<div>\n",
              "<style scoped>\n",
              "    .dataframe tbody tr th:only-of-type {\n",
              "        vertical-align: middle;\n",
              "    }\n",
              "\n",
              "    .dataframe tbody tr th {\n",
              "        vertical-align: top;\n",
              "    }\n",
              "\n",
              "    .dataframe thead th {\n",
              "        text-align: right;\n",
              "    }\n",
              "</style>\n",
              "<table border=\"1\" class=\"dataframe\">\n",
              "  <thead>\n",
              "    <tr style=\"text-align: right;\">\n",
              "      <th></th>\n",
              "      <th>instant</th>\n",
              "      <th>season</th>\n",
              "      <th>yr</th>\n",
              "      <th>mnth</th>\n",
              "      <th>holiday</th>\n",
              "      <th>weekday</th>\n",
              "      <th>workingday</th>\n",
              "      <th>weathersit</th>\n",
              "      <th>temp</th>\n",
              "      <th>atemp</th>\n",
              "      <th>hum</th>\n",
              "      <th>windspeed</th>\n",
              "      <th>casual</th>\n",
              "      <th>registered</th>\n",
              "      <th>cnt</th>\n",
              "    </tr>\n",
              "  </thead>\n",
              "  <tbody>\n",
              "    <tr>\n",
              "      <th>count</th>\n",
              "      <td>731.000000</td>\n",
              "      <td>731.000000</td>\n",
              "      <td>731.000000</td>\n",
              "      <td>731.000000</td>\n",
              "      <td>731.000000</td>\n",
              "      <td>731.000000</td>\n",
              "      <td>731.000000</td>\n",
              "      <td>731.000000</td>\n",
              "      <td>731.000000</td>\n",
              "      <td>731.000000</td>\n",
              "      <td>731.000000</td>\n",
              "      <td>731.000000</td>\n",
              "      <td>731.000000</td>\n",
              "      <td>731.000000</td>\n",
              "      <td>731.000000</td>\n",
              "    </tr>\n",
              "    <tr>\n",
              "      <th>mean</th>\n",
              "      <td>366.000000</td>\n",
              "      <td>2.496580</td>\n",
              "      <td>0.500684</td>\n",
              "      <td>6.519836</td>\n",
              "      <td>0.028728</td>\n",
              "      <td>2.997264</td>\n",
              "      <td>0.683995</td>\n",
              "      <td>1.395349</td>\n",
              "      <td>0.495385</td>\n",
              "      <td>0.474354</td>\n",
              "      <td>0.627894</td>\n",
              "      <td>0.190486</td>\n",
              "      <td>848.176471</td>\n",
              "      <td>3656.172367</td>\n",
              "      <td>4504.348837</td>\n",
              "    </tr>\n",
              "    <tr>\n",
              "      <th>std</th>\n",
              "      <td>211.165812</td>\n",
              "      <td>1.110807</td>\n",
              "      <td>0.500342</td>\n",
              "      <td>3.451913</td>\n",
              "      <td>0.167155</td>\n",
              "      <td>2.004787</td>\n",
              "      <td>0.465233</td>\n",
              "      <td>0.544894</td>\n",
              "      <td>0.183051</td>\n",
              "      <td>0.162961</td>\n",
              "      <td>0.142429</td>\n",
              "      <td>0.077498</td>\n",
              "      <td>686.622488</td>\n",
              "      <td>1560.256377</td>\n",
              "      <td>1937.211452</td>\n",
              "    </tr>\n",
              "    <tr>\n",
              "      <th>min</th>\n",
              "      <td>1.000000</td>\n",
              "      <td>1.000000</td>\n",
              "      <td>0.000000</td>\n",
              "      <td>1.000000</td>\n",
              "      <td>0.000000</td>\n",
              "      <td>0.000000</td>\n",
              "      <td>0.000000</td>\n",
              "      <td>1.000000</td>\n",
              "      <td>0.059130</td>\n",
              "      <td>0.079070</td>\n",
              "      <td>0.000000</td>\n",
              "      <td>0.022392</td>\n",
              "      <td>2.000000</td>\n",
              "      <td>20.000000</td>\n",
              "      <td>22.000000</td>\n",
              "    </tr>\n",
              "    <tr>\n",
              "      <th>25%</th>\n",
              "      <td>183.500000</td>\n",
              "      <td>2.000000</td>\n",
              "      <td>0.000000</td>\n",
              "      <td>4.000000</td>\n",
              "      <td>0.000000</td>\n",
              "      <td>1.000000</td>\n",
              "      <td>0.000000</td>\n",
              "      <td>1.000000</td>\n",
              "      <td>0.337083</td>\n",
              "      <td>0.337842</td>\n",
              "      <td>0.520000</td>\n",
              "      <td>0.134950</td>\n",
              "      <td>315.500000</td>\n",
              "      <td>2497.000000</td>\n",
              "      <td>3152.000000</td>\n",
              "    </tr>\n",
              "    <tr>\n",
              "      <th>50%</th>\n",
              "      <td>366.000000</td>\n",
              "      <td>3.000000</td>\n",
              "      <td>1.000000</td>\n",
              "      <td>7.000000</td>\n",
              "      <td>0.000000</td>\n",
              "      <td>3.000000</td>\n",
              "      <td>1.000000</td>\n",
              "      <td>1.000000</td>\n",
              "      <td>0.498333</td>\n",
              "      <td>0.486733</td>\n",
              "      <td>0.626667</td>\n",
              "      <td>0.180975</td>\n",
              "      <td>713.000000</td>\n",
              "      <td>3662.000000</td>\n",
              "      <td>4548.000000</td>\n",
              "    </tr>\n",
              "    <tr>\n",
              "      <th>75%</th>\n",
              "      <td>548.500000</td>\n",
              "      <td>3.000000</td>\n",
              "      <td>1.000000</td>\n",
              "      <td>10.000000</td>\n",
              "      <td>0.000000</td>\n",
              "      <td>5.000000</td>\n",
              "      <td>1.000000</td>\n",
              "      <td>2.000000</td>\n",
              "      <td>0.655417</td>\n",
              "      <td>0.608602</td>\n",
              "      <td>0.730209</td>\n",
              "      <td>0.233214</td>\n",
              "      <td>1096.000000</td>\n",
              "      <td>4776.500000</td>\n",
              "      <td>5956.000000</td>\n",
              "    </tr>\n",
              "    <tr>\n",
              "      <th>max</th>\n",
              "      <td>731.000000</td>\n",
              "      <td>4.000000</td>\n",
              "      <td>1.000000</td>\n",
              "      <td>12.000000</td>\n",
              "      <td>1.000000</td>\n",
              "      <td>6.000000</td>\n",
              "      <td>1.000000</td>\n",
              "      <td>3.000000</td>\n",
              "      <td>0.861667</td>\n",
              "      <td>0.840896</td>\n",
              "      <td>0.972500</td>\n",
              "      <td>0.507463</td>\n",
              "      <td>3410.000000</td>\n",
              "      <td>6946.000000</td>\n",
              "      <td>8714.000000</td>\n",
              "    </tr>\n",
              "  </tbody>\n",
              "</table>\n",
              "</div>"
            ],
            "text/plain": [
              "          instant      season          yr        mnth     holiday     weekday  \\\n",
              "count  731.000000  731.000000  731.000000  731.000000  731.000000  731.000000   \n",
              "mean   366.000000    2.496580    0.500684    6.519836    0.028728    2.997264   \n",
              "std    211.165812    1.110807    0.500342    3.451913    0.167155    2.004787   \n",
              "min      1.000000    1.000000    0.000000    1.000000    0.000000    0.000000   \n",
              "25%    183.500000    2.000000    0.000000    4.000000    0.000000    1.000000   \n",
              "50%    366.000000    3.000000    1.000000    7.000000    0.000000    3.000000   \n",
              "75%    548.500000    3.000000    1.000000   10.000000    0.000000    5.000000   \n",
              "max    731.000000    4.000000    1.000000   12.000000    1.000000    6.000000   \n",
              "\n",
              "       workingday  weathersit        temp       atemp         hum   windspeed  \\\n",
              "count  731.000000  731.000000  731.000000  731.000000  731.000000  731.000000   \n",
              "mean     0.683995    1.395349    0.495385    0.474354    0.627894    0.190486   \n",
              "std      0.465233    0.544894    0.183051    0.162961    0.142429    0.077498   \n",
              "min      0.000000    1.000000    0.059130    0.079070    0.000000    0.022392   \n",
              "25%      0.000000    1.000000    0.337083    0.337842    0.520000    0.134950   \n",
              "50%      1.000000    1.000000    0.498333    0.486733    0.626667    0.180975   \n",
              "75%      1.000000    2.000000    0.655417    0.608602    0.730209    0.233214   \n",
              "max      1.000000    3.000000    0.861667    0.840896    0.972500    0.507463   \n",
              "\n",
              "            casual   registered          cnt  \n",
              "count   731.000000   731.000000   731.000000  \n",
              "mean    848.176471  3656.172367  4504.348837  \n",
              "std     686.622488  1560.256377  1937.211452  \n",
              "min       2.000000    20.000000    22.000000  \n",
              "25%     315.500000  2497.000000  3152.000000  \n",
              "50%     713.000000  3662.000000  4548.000000  \n",
              "75%    1096.000000  4776.500000  5956.000000  \n",
              "max    3410.000000  6946.000000  8714.000000  "
            ]
          },
          "execution_count": 29,
          "metadata": {},
          "output_type": "execute_result"
        }
      ],
      "source": [
        "day_df.describe()"
      ]
    },
    {
      "cell_type": "markdown",
      "metadata": {},
      "source": [
        "- Pada saat menampilkan data describe juga tidak terdapat hal yang aneh."
      ]
    },
    {
      "cell_type": "code",
      "execution_count": 30,
      "metadata": {},
      "outputs": [
        {
          "data": {
            "text/plain": [
              "0      False\n",
              "1      False\n",
              "2      False\n",
              "3      False\n",
              "4      False\n",
              "       ...  \n",
              "726    False\n",
              "727    False\n",
              "728    False\n",
              "729    False\n",
              "730    False\n",
              "Length: 731, dtype: bool"
            ]
          },
          "execution_count": 30,
          "metadata": {},
          "output_type": "execute_result"
        }
      ],
      "source": [
        "day_df.duplicated()"
      ]
    },
    {
      "cell_type": "markdown",
      "metadata": {},
      "source": [
        "- tidak terdapat data yang terduplikasi."
      ]
    },
    {
      "cell_type": "markdown",
      "metadata": {},
      "source": [
        "#### Assessing Data Hour"
      ]
    },
    {
      "cell_type": "code",
      "execution_count": 31,
      "metadata": {},
      "outputs": [
        {
          "name": "stdout",
          "output_type": "stream",
          "text": [
            "<class 'pandas.core.frame.DataFrame'>\n",
            "RangeIndex: 17379 entries, 0 to 17378\n",
            "Data columns (total 17 columns):\n",
            " #   Column      Non-Null Count  Dtype  \n",
            "---  ------      --------------  -----  \n",
            " 0   instant     17379 non-null  int64  \n",
            " 1   dteday      17379 non-null  object \n",
            " 2   season      17379 non-null  int64  \n",
            " 3   yr          17379 non-null  int64  \n",
            " 4   mnth        17379 non-null  int64  \n",
            " 5   hr          17379 non-null  int64  \n",
            " 6   holiday     17379 non-null  int64  \n",
            " 7   weekday     17379 non-null  int64  \n",
            " 8   workingday  17379 non-null  int64  \n",
            " 9   weathersit  17379 non-null  int64  \n",
            " 10  temp        17379 non-null  float64\n",
            " 11  atemp       17379 non-null  float64\n",
            " 12  hum         17379 non-null  float64\n",
            " 13  windspeed   17379 non-null  float64\n",
            " 14  casual      17379 non-null  int64  \n",
            " 15  registered  17379 non-null  int64  \n",
            " 16  cnt         17379 non-null  int64  \n",
            "dtypes: float64(4), int64(12), object(1)\n",
            "memory usage: 2.3+ MB\n"
          ]
        },
        {
          "data": {
            "text/plain": [
              "instant       0\n",
              "dteday        0\n",
              "season        0\n",
              "yr            0\n",
              "mnth          0\n",
              "hr            0\n",
              "holiday       0\n",
              "weekday       0\n",
              "workingday    0\n",
              "weathersit    0\n",
              "temp          0\n",
              "atemp         0\n",
              "hum           0\n",
              "windspeed     0\n",
              "casual        0\n",
              "registered    0\n",
              "cnt           0\n",
              "dtype: int64"
            ]
          },
          "execution_count": 31,
          "metadata": {},
          "output_type": "execute_result"
        }
      ],
      "source": [
        "hour_df.info()\n",
        "hour_df.isnull().sum()"
      ]
    },
    {
      "cell_type": "code",
      "execution_count": 32,
      "metadata": {},
      "outputs": [
        {
          "data": {
            "application/vnd.microsoft.datawrangler.viewer.v0+json": {
              "columns": [
                {
                  "name": "index",
                  "rawType": "object",
                  "type": "string"
                },
                {
                  "name": "instant",
                  "rawType": "float64",
                  "type": "float"
                },
                {
                  "name": "season",
                  "rawType": "float64",
                  "type": "float"
                },
                {
                  "name": "yr",
                  "rawType": "float64",
                  "type": "float"
                },
                {
                  "name": "mnth",
                  "rawType": "float64",
                  "type": "float"
                },
                {
                  "name": "hr",
                  "rawType": "float64",
                  "type": "float"
                },
                {
                  "name": "holiday",
                  "rawType": "float64",
                  "type": "float"
                },
                {
                  "name": "weekday",
                  "rawType": "float64",
                  "type": "float"
                },
                {
                  "name": "workingday",
                  "rawType": "float64",
                  "type": "float"
                },
                {
                  "name": "weathersit",
                  "rawType": "float64",
                  "type": "float"
                },
                {
                  "name": "temp",
                  "rawType": "float64",
                  "type": "float"
                },
                {
                  "name": "atemp",
                  "rawType": "float64",
                  "type": "float"
                },
                {
                  "name": "hum",
                  "rawType": "float64",
                  "type": "float"
                },
                {
                  "name": "windspeed",
                  "rawType": "float64",
                  "type": "float"
                },
                {
                  "name": "casual",
                  "rawType": "float64",
                  "type": "float"
                },
                {
                  "name": "registered",
                  "rawType": "float64",
                  "type": "float"
                },
                {
                  "name": "cnt",
                  "rawType": "float64",
                  "type": "float"
                }
              ],
              "conversionMethod": "pd.DataFrame",
              "ref": "e7c588db-4a3f-4758-a6e1-57b13e5cb3c6",
              "rows": [
                [
                  "count",
                  "17379.0",
                  "17379.0",
                  "17379.0",
                  "17379.0",
                  "17379.0",
                  "17379.0",
                  "17379.0",
                  "17379.0",
                  "17379.0",
                  "17379.0",
                  "17379.0",
                  "17379.0",
                  "17379.0",
                  "17379.0",
                  "17379.0",
                  "17379.0"
                ],
                [
                  "mean",
                  "8690.0",
                  "2.5016399102364923",
                  "0.5025605615973301",
                  "6.537775476149376",
                  "11.546751826917545",
                  "0.028770355026181024",
                  "3.003682605443351",
                  "0.6827205247712756",
                  "1.425283387997008",
                  "0.4969871684216583",
                  "0.4757751021347604",
                  "0.6272288394038783",
                  "0.1900976063064618",
                  "35.67621842453536",
                  "153.78686920996606",
                  "189.46308763450142"
                ],
                [
                  "std",
                  "5017.029499614288",
                  "1.1069181394480763",
                  "0.5000078290910197",
                  "3.4387757137501653",
                  "6.9144050952644935",
                  "0.16716527638437123",
                  "2.005771456110988",
                  "0.46543063352388286",
                  "0.6393568777542534",
                  "0.1925561212497219",
                  "0.17185021563535943",
                  "0.19292983406291508",
                  "0.12234022857279049",
                  "49.30503038705308",
                  "151.35728591258314",
                  "181.38759909186473"
                ],
                [
                  "min",
                  "1.0",
                  "1.0",
                  "0.0",
                  "1.0",
                  "0.0",
                  "0.0",
                  "0.0",
                  "0.0",
                  "1.0",
                  "0.02",
                  "0.0",
                  "0.0",
                  "0.0",
                  "0.0",
                  "0.0",
                  "1.0"
                ],
                [
                  "25%",
                  "4345.5",
                  "2.0",
                  "0.0",
                  "4.0",
                  "6.0",
                  "0.0",
                  "1.0",
                  "0.0",
                  "1.0",
                  "0.34",
                  "0.3333",
                  "0.48",
                  "0.1045",
                  "4.0",
                  "34.0",
                  "40.0"
                ],
                [
                  "50%",
                  "8690.0",
                  "3.0",
                  "1.0",
                  "7.0",
                  "12.0",
                  "0.0",
                  "3.0",
                  "1.0",
                  "1.0",
                  "0.5",
                  "0.4848",
                  "0.63",
                  "0.194",
                  "17.0",
                  "115.0",
                  "142.0"
                ],
                [
                  "75%",
                  "13034.5",
                  "3.0",
                  "1.0",
                  "10.0",
                  "18.0",
                  "0.0",
                  "5.0",
                  "1.0",
                  "2.0",
                  "0.66",
                  "0.6212",
                  "0.78",
                  "0.2537",
                  "48.0",
                  "220.0",
                  "281.0"
                ],
                [
                  "max",
                  "17379.0",
                  "4.0",
                  "1.0",
                  "12.0",
                  "23.0",
                  "1.0",
                  "6.0",
                  "1.0",
                  "4.0",
                  "1.0",
                  "1.0",
                  "1.0",
                  "0.8507",
                  "367.0",
                  "886.0",
                  "977.0"
                ]
              ],
              "shape": {
                "columns": 16,
                "rows": 8
              }
            },
            "text/html": [
              "<div>\n",
              "<style scoped>\n",
              "    .dataframe tbody tr th:only-of-type {\n",
              "        vertical-align: middle;\n",
              "    }\n",
              "\n",
              "    .dataframe tbody tr th {\n",
              "        vertical-align: top;\n",
              "    }\n",
              "\n",
              "    .dataframe thead th {\n",
              "        text-align: right;\n",
              "    }\n",
              "</style>\n",
              "<table border=\"1\" class=\"dataframe\">\n",
              "  <thead>\n",
              "    <tr style=\"text-align: right;\">\n",
              "      <th></th>\n",
              "      <th>instant</th>\n",
              "      <th>season</th>\n",
              "      <th>yr</th>\n",
              "      <th>mnth</th>\n",
              "      <th>hr</th>\n",
              "      <th>holiday</th>\n",
              "      <th>weekday</th>\n",
              "      <th>workingday</th>\n",
              "      <th>weathersit</th>\n",
              "      <th>temp</th>\n",
              "      <th>atemp</th>\n",
              "      <th>hum</th>\n",
              "      <th>windspeed</th>\n",
              "      <th>casual</th>\n",
              "      <th>registered</th>\n",
              "      <th>cnt</th>\n",
              "    </tr>\n",
              "  </thead>\n",
              "  <tbody>\n",
              "    <tr>\n",
              "      <th>count</th>\n",
              "      <td>17379.0000</td>\n",
              "      <td>17379.000000</td>\n",
              "      <td>17379.000000</td>\n",
              "      <td>17379.000000</td>\n",
              "      <td>17379.000000</td>\n",
              "      <td>17379.000000</td>\n",
              "      <td>17379.000000</td>\n",
              "      <td>17379.000000</td>\n",
              "      <td>17379.000000</td>\n",
              "      <td>17379.000000</td>\n",
              "      <td>17379.000000</td>\n",
              "      <td>17379.000000</td>\n",
              "      <td>17379.000000</td>\n",
              "      <td>17379.000000</td>\n",
              "      <td>17379.000000</td>\n",
              "      <td>17379.000000</td>\n",
              "    </tr>\n",
              "    <tr>\n",
              "      <th>mean</th>\n",
              "      <td>8690.0000</td>\n",
              "      <td>2.501640</td>\n",
              "      <td>0.502561</td>\n",
              "      <td>6.537775</td>\n",
              "      <td>11.546752</td>\n",
              "      <td>0.028770</td>\n",
              "      <td>3.003683</td>\n",
              "      <td>0.682721</td>\n",
              "      <td>1.425283</td>\n",
              "      <td>0.496987</td>\n",
              "      <td>0.475775</td>\n",
              "      <td>0.627229</td>\n",
              "      <td>0.190098</td>\n",
              "      <td>35.676218</td>\n",
              "      <td>153.786869</td>\n",
              "      <td>189.463088</td>\n",
              "    </tr>\n",
              "    <tr>\n",
              "      <th>std</th>\n",
              "      <td>5017.0295</td>\n",
              "      <td>1.106918</td>\n",
              "      <td>0.500008</td>\n",
              "      <td>3.438776</td>\n",
              "      <td>6.914405</td>\n",
              "      <td>0.167165</td>\n",
              "      <td>2.005771</td>\n",
              "      <td>0.465431</td>\n",
              "      <td>0.639357</td>\n",
              "      <td>0.192556</td>\n",
              "      <td>0.171850</td>\n",
              "      <td>0.192930</td>\n",
              "      <td>0.122340</td>\n",
              "      <td>49.305030</td>\n",
              "      <td>151.357286</td>\n",
              "      <td>181.387599</td>\n",
              "    </tr>\n",
              "    <tr>\n",
              "      <th>min</th>\n",
              "      <td>1.0000</td>\n",
              "      <td>1.000000</td>\n",
              "      <td>0.000000</td>\n",
              "      <td>1.000000</td>\n",
              "      <td>0.000000</td>\n",
              "      <td>0.000000</td>\n",
              "      <td>0.000000</td>\n",
              "      <td>0.000000</td>\n",
              "      <td>1.000000</td>\n",
              "      <td>0.020000</td>\n",
              "      <td>0.000000</td>\n",
              "      <td>0.000000</td>\n",
              "      <td>0.000000</td>\n",
              "      <td>0.000000</td>\n",
              "      <td>0.000000</td>\n",
              "      <td>1.000000</td>\n",
              "    </tr>\n",
              "    <tr>\n",
              "      <th>25%</th>\n",
              "      <td>4345.5000</td>\n",
              "      <td>2.000000</td>\n",
              "      <td>0.000000</td>\n",
              "      <td>4.000000</td>\n",
              "      <td>6.000000</td>\n",
              "      <td>0.000000</td>\n",
              "      <td>1.000000</td>\n",
              "      <td>0.000000</td>\n",
              "      <td>1.000000</td>\n",
              "      <td>0.340000</td>\n",
              "      <td>0.333300</td>\n",
              "      <td>0.480000</td>\n",
              "      <td>0.104500</td>\n",
              "      <td>4.000000</td>\n",
              "      <td>34.000000</td>\n",
              "      <td>40.000000</td>\n",
              "    </tr>\n",
              "    <tr>\n",
              "      <th>50%</th>\n",
              "      <td>8690.0000</td>\n",
              "      <td>3.000000</td>\n",
              "      <td>1.000000</td>\n",
              "      <td>7.000000</td>\n",
              "      <td>12.000000</td>\n",
              "      <td>0.000000</td>\n",
              "      <td>3.000000</td>\n",
              "      <td>1.000000</td>\n",
              "      <td>1.000000</td>\n",
              "      <td>0.500000</td>\n",
              "      <td>0.484800</td>\n",
              "      <td>0.630000</td>\n",
              "      <td>0.194000</td>\n",
              "      <td>17.000000</td>\n",
              "      <td>115.000000</td>\n",
              "      <td>142.000000</td>\n",
              "    </tr>\n",
              "    <tr>\n",
              "      <th>75%</th>\n",
              "      <td>13034.5000</td>\n",
              "      <td>3.000000</td>\n",
              "      <td>1.000000</td>\n",
              "      <td>10.000000</td>\n",
              "      <td>18.000000</td>\n",
              "      <td>0.000000</td>\n",
              "      <td>5.000000</td>\n",
              "      <td>1.000000</td>\n",
              "      <td>2.000000</td>\n",
              "      <td>0.660000</td>\n",
              "      <td>0.621200</td>\n",
              "      <td>0.780000</td>\n",
              "      <td>0.253700</td>\n",
              "      <td>48.000000</td>\n",
              "      <td>220.000000</td>\n",
              "      <td>281.000000</td>\n",
              "    </tr>\n",
              "    <tr>\n",
              "      <th>max</th>\n",
              "      <td>17379.0000</td>\n",
              "      <td>4.000000</td>\n",
              "      <td>1.000000</td>\n",
              "      <td>12.000000</td>\n",
              "      <td>23.000000</td>\n",
              "      <td>1.000000</td>\n",
              "      <td>6.000000</td>\n",
              "      <td>1.000000</td>\n",
              "      <td>4.000000</td>\n",
              "      <td>1.000000</td>\n",
              "      <td>1.000000</td>\n",
              "      <td>1.000000</td>\n",
              "      <td>0.850700</td>\n",
              "      <td>367.000000</td>\n",
              "      <td>886.000000</td>\n",
              "      <td>977.000000</td>\n",
              "    </tr>\n",
              "  </tbody>\n",
              "</table>\n",
              "</div>"
            ],
            "text/plain": [
              "          instant        season            yr          mnth            hr  \\\n",
              "count  17379.0000  17379.000000  17379.000000  17379.000000  17379.000000   \n",
              "mean    8690.0000      2.501640      0.502561      6.537775     11.546752   \n",
              "std     5017.0295      1.106918      0.500008      3.438776      6.914405   \n",
              "min        1.0000      1.000000      0.000000      1.000000      0.000000   \n",
              "25%     4345.5000      2.000000      0.000000      4.000000      6.000000   \n",
              "50%     8690.0000      3.000000      1.000000      7.000000     12.000000   \n",
              "75%    13034.5000      3.000000      1.000000     10.000000     18.000000   \n",
              "max    17379.0000      4.000000      1.000000     12.000000     23.000000   \n",
              "\n",
              "            holiday       weekday    workingday    weathersit          temp  \\\n",
              "count  17379.000000  17379.000000  17379.000000  17379.000000  17379.000000   \n",
              "mean       0.028770      3.003683      0.682721      1.425283      0.496987   \n",
              "std        0.167165      2.005771      0.465431      0.639357      0.192556   \n",
              "min        0.000000      0.000000      0.000000      1.000000      0.020000   \n",
              "25%        0.000000      1.000000      0.000000      1.000000      0.340000   \n",
              "50%        0.000000      3.000000      1.000000      1.000000      0.500000   \n",
              "75%        0.000000      5.000000      1.000000      2.000000      0.660000   \n",
              "max        1.000000      6.000000      1.000000      4.000000      1.000000   \n",
              "\n",
              "              atemp           hum     windspeed        casual    registered  \\\n",
              "count  17379.000000  17379.000000  17379.000000  17379.000000  17379.000000   \n",
              "mean       0.475775      0.627229      0.190098     35.676218    153.786869   \n",
              "std        0.171850      0.192930      0.122340     49.305030    151.357286   \n",
              "min        0.000000      0.000000      0.000000      0.000000      0.000000   \n",
              "25%        0.333300      0.480000      0.104500      4.000000     34.000000   \n",
              "50%        0.484800      0.630000      0.194000     17.000000    115.000000   \n",
              "75%        0.621200      0.780000      0.253700     48.000000    220.000000   \n",
              "max        1.000000      1.000000      0.850700    367.000000    886.000000   \n",
              "\n",
              "                cnt  \n",
              "count  17379.000000  \n",
              "mean     189.463088  \n",
              "std      181.387599  \n",
              "min        1.000000  \n",
              "25%       40.000000  \n",
              "50%      142.000000  \n",
              "75%      281.000000  \n",
              "max      977.000000  "
            ]
          },
          "execution_count": 32,
          "metadata": {},
          "output_type": "execute_result"
        }
      ],
      "source": [
        "hour_df.describe()"
      ]
    },
    {
      "cell_type": "code",
      "execution_count": 33,
      "metadata": {},
      "outputs": [
        {
          "data": {
            "text/plain": [
              "0        False\n",
              "1        False\n",
              "2        False\n",
              "3        False\n",
              "4        False\n",
              "         ...  \n",
              "17374    False\n",
              "17375    False\n",
              "17376    False\n",
              "17377    False\n",
              "17378    False\n",
              "Length: 17379, dtype: bool"
            ]
          },
          "execution_count": 33,
          "metadata": {},
          "output_type": "execute_result"
        }
      ],
      "source": [
        "hour_df.duplicated()"
      ]
    },
    {
      "cell_type": "markdown",
      "metadata": {
        "id": "7dtxhAPrkhPL"
      },
      "source": [
        "- Pada dataset hour.csv memiliki hal yang sama seperti dataset day.csv dimana kolom dteday bertipe object dimana yang harusnya bertipe datetime karena berisikan tanggal."
      ]
    },
    {
      "cell_type": "markdown",
      "metadata": {
        "id": "EhN5R4hr8DC1"
      },
      "source": [
        "### Cleaning Data"
      ]
    },
    {
      "cell_type": "code",
      "execution_count": 34,
      "metadata": {
        "id": "jVnYpprE9Evz"
      },
      "outputs": [],
      "source": [
        "day_df['dteday'] = pd.to_datetime(day_df['dteday'])\n",
        "hour_df['dteday'] = pd.to_datetime(hour_df['dteday'])"
      ]
    },
    {
      "cell_type": "markdown",
      "metadata": {},
      "source": [
        "- Seperti yang ditemukan sebelumnya pada assessing data sebelumnya, kedua dataset pada kolom dteday masih menggunakan tipe data object. Disini saya mengubahnya menjadi tipe data datetime."
      ]
    },
    {
      "cell_type": "markdown",
      "metadata": {
        "id": "gp-Y6wU38DC1"
      },
      "source": [
        "## Exploratory Data Analysis (EDA)"
      ]
    },
    {
      "cell_type": "markdown",
      "metadata": {
        "id": "MW7WF2kr8DC1"
      },
      "source": [
        "### Explorasi Data Day"
      ]
    },
    {
      "cell_type": "code",
      "execution_count": 35,
      "metadata": {
        "id": "e9CQCZjk8DC2"
      },
      "outputs": [
        {
          "data": {
            "application/vnd.microsoft.datawrangler.viewer.v0+json": {
              "columns": [
                {
                  "name": "index",
                  "rawType": "object",
                  "type": "string"
                },
                {
                  "name": "instant",
                  "rawType": "float64",
                  "type": "float"
                },
                {
                  "name": "dteday",
                  "rawType": "object",
                  "type": "unknown"
                },
                {
                  "name": "season",
                  "rawType": "float64",
                  "type": "float"
                },
                {
                  "name": "yr",
                  "rawType": "float64",
                  "type": "float"
                },
                {
                  "name": "mnth",
                  "rawType": "float64",
                  "type": "float"
                },
                {
                  "name": "holiday",
                  "rawType": "float64",
                  "type": "float"
                },
                {
                  "name": "weekday",
                  "rawType": "float64",
                  "type": "float"
                },
                {
                  "name": "workingday",
                  "rawType": "float64",
                  "type": "float"
                },
                {
                  "name": "weathersit",
                  "rawType": "float64",
                  "type": "float"
                },
                {
                  "name": "temp",
                  "rawType": "float64",
                  "type": "float"
                },
                {
                  "name": "atemp",
                  "rawType": "float64",
                  "type": "float"
                },
                {
                  "name": "hum",
                  "rawType": "float64",
                  "type": "float"
                },
                {
                  "name": "windspeed",
                  "rawType": "float64",
                  "type": "float"
                },
                {
                  "name": "casual",
                  "rawType": "float64",
                  "type": "float"
                },
                {
                  "name": "registered",
                  "rawType": "float64",
                  "type": "float"
                },
                {
                  "name": "cnt",
                  "rawType": "float64",
                  "type": "float"
                }
              ],
              "conversionMethod": "pd.DataFrame",
              "ref": "4f9b1a07-26c2-438d-b122-95870e2f41f1",
              "rows": [
                [
                  "count",
                  "731.0",
                  "731",
                  "731.0",
                  "731.0",
                  "731.0",
                  "731.0",
                  "731.0",
                  "731.0",
                  "731.0",
                  "731.0",
                  "731.0",
                  "731.0",
                  "731.0",
                  "731.0",
                  "731.0",
                  "731.0"
                ],
                [
                  "mean",
                  "366.0",
                  "2012-01-01 00:00:00",
                  "2.496580027359781",
                  "0.5006839945280438",
                  "6.519835841313269",
                  "0.028727770177838577",
                  "2.997264021887825",
                  "0.6839945280437757",
                  "1.3953488372093024",
                  "0.495384788508892",
                  "0.47435398864569084",
                  "0.6278940629274967",
                  "0.190486211627907",
                  "848.1764705882352",
                  "3656.172366621067",
                  "4504.3488372093025"
                ],
                [
                  "min",
                  "1.0",
                  "2011-01-01 00:00:00",
                  "1.0",
                  "0.0",
                  "1.0",
                  "0.0",
                  "0.0",
                  "0.0",
                  "1.0",
                  "0.0591304",
                  "0.0790696",
                  "0.0",
                  "0.0223917",
                  "2.0",
                  "20.0",
                  "22.0"
                ],
                [
                  "25%",
                  "183.5",
                  "2011-07-02 12:00:00",
                  "2.0",
                  "0.0",
                  "4.0",
                  "0.0",
                  "1.0",
                  "0.0",
                  "1.0",
                  "0.3370835",
                  "0.3378425",
                  "0.52",
                  "0.13495",
                  "315.5",
                  "2497.0",
                  "3152.0"
                ],
                [
                  "50%",
                  "366.0",
                  "2012-01-01 00:00:00",
                  "3.0",
                  "1.0",
                  "7.0",
                  "0.0",
                  "3.0",
                  "1.0",
                  "1.0",
                  "0.498333",
                  "0.486733",
                  "0.626667",
                  "0.180975",
                  "713.0",
                  "3662.0",
                  "4548.0"
                ],
                [
                  "75%",
                  "548.5",
                  "2012-07-01 12:00:00",
                  "3.0",
                  "1.0",
                  "10.0",
                  "0.0",
                  "5.0",
                  "1.0",
                  "2.0",
                  "0.6554165000000001",
                  "0.6086020000000001",
                  "0.7302085",
                  "0.2332145",
                  "1096.0",
                  "4776.5",
                  "5956.0"
                ],
                [
                  "max",
                  "731.0",
                  "2012-12-31 00:00:00",
                  "4.0",
                  "1.0",
                  "12.0",
                  "1.0",
                  "6.0",
                  "1.0",
                  "3.0",
                  "0.861667",
                  "0.840896",
                  "0.9725",
                  "0.507463",
                  "3410.0",
                  "6946.0",
                  "8714.0"
                ],
                [
                  "std",
                  "211.16581162678773",
                  null,
                  "1.1108070927726255",
                  "0.5003418803818264",
                  "3.4519127872562527",
                  "0.16715474262247382",
                  "2.0047869179444824",
                  "0.4652333866777036",
                  "0.5448943419593665",
                  "0.18305099611148878",
                  "0.1629611783863113",
                  "0.14242909513835394",
                  "0.07749787068166941",
                  "686.622488284655",
                  "1560.2563770194536",
                  "1937.2114516187676"
                ]
              ],
              "shape": {
                "columns": 16,
                "rows": 8
              }
            },
            "text/html": [
              "<div>\n",
              "<style scoped>\n",
              "    .dataframe tbody tr th:only-of-type {\n",
              "        vertical-align: middle;\n",
              "    }\n",
              "\n",
              "    .dataframe tbody tr th {\n",
              "        vertical-align: top;\n",
              "    }\n",
              "\n",
              "    .dataframe thead th {\n",
              "        text-align: right;\n",
              "    }\n",
              "</style>\n",
              "<table border=\"1\" class=\"dataframe\">\n",
              "  <thead>\n",
              "    <tr style=\"text-align: right;\">\n",
              "      <th></th>\n",
              "      <th>instant</th>\n",
              "      <th>dteday</th>\n",
              "      <th>season</th>\n",
              "      <th>yr</th>\n",
              "      <th>mnth</th>\n",
              "      <th>holiday</th>\n",
              "      <th>weekday</th>\n",
              "      <th>workingday</th>\n",
              "      <th>weathersit</th>\n",
              "      <th>temp</th>\n",
              "      <th>atemp</th>\n",
              "      <th>hum</th>\n",
              "      <th>windspeed</th>\n",
              "      <th>casual</th>\n",
              "      <th>registered</th>\n",
              "      <th>cnt</th>\n",
              "    </tr>\n",
              "  </thead>\n",
              "  <tbody>\n",
              "    <tr>\n",
              "      <th>count</th>\n",
              "      <td>731.000000</td>\n",
              "      <td>731</td>\n",
              "      <td>731.000000</td>\n",
              "      <td>731.000000</td>\n",
              "      <td>731.000000</td>\n",
              "      <td>731.000000</td>\n",
              "      <td>731.000000</td>\n",
              "      <td>731.000000</td>\n",
              "      <td>731.000000</td>\n",
              "      <td>731.000000</td>\n",
              "      <td>731.000000</td>\n",
              "      <td>731.000000</td>\n",
              "      <td>731.000000</td>\n",
              "      <td>731.000000</td>\n",
              "      <td>731.000000</td>\n",
              "      <td>731.000000</td>\n",
              "    </tr>\n",
              "    <tr>\n",
              "      <th>mean</th>\n",
              "      <td>366.000000</td>\n",
              "      <td>2012-01-01 00:00:00</td>\n",
              "      <td>2.496580</td>\n",
              "      <td>0.500684</td>\n",
              "      <td>6.519836</td>\n",
              "      <td>0.028728</td>\n",
              "      <td>2.997264</td>\n",
              "      <td>0.683995</td>\n",
              "      <td>1.395349</td>\n",
              "      <td>0.495385</td>\n",
              "      <td>0.474354</td>\n",
              "      <td>0.627894</td>\n",
              "      <td>0.190486</td>\n",
              "      <td>848.176471</td>\n",
              "      <td>3656.172367</td>\n",
              "      <td>4504.348837</td>\n",
              "    </tr>\n",
              "    <tr>\n",
              "      <th>min</th>\n",
              "      <td>1.000000</td>\n",
              "      <td>2011-01-01 00:00:00</td>\n",
              "      <td>1.000000</td>\n",
              "      <td>0.000000</td>\n",
              "      <td>1.000000</td>\n",
              "      <td>0.000000</td>\n",
              "      <td>0.000000</td>\n",
              "      <td>0.000000</td>\n",
              "      <td>1.000000</td>\n",
              "      <td>0.059130</td>\n",
              "      <td>0.079070</td>\n",
              "      <td>0.000000</td>\n",
              "      <td>0.022392</td>\n",
              "      <td>2.000000</td>\n",
              "      <td>20.000000</td>\n",
              "      <td>22.000000</td>\n",
              "    </tr>\n",
              "    <tr>\n",
              "      <th>25%</th>\n",
              "      <td>183.500000</td>\n",
              "      <td>2011-07-02 12:00:00</td>\n",
              "      <td>2.000000</td>\n",
              "      <td>0.000000</td>\n",
              "      <td>4.000000</td>\n",
              "      <td>0.000000</td>\n",
              "      <td>1.000000</td>\n",
              "      <td>0.000000</td>\n",
              "      <td>1.000000</td>\n",
              "      <td>0.337083</td>\n",
              "      <td>0.337842</td>\n",
              "      <td>0.520000</td>\n",
              "      <td>0.134950</td>\n",
              "      <td>315.500000</td>\n",
              "      <td>2497.000000</td>\n",
              "      <td>3152.000000</td>\n",
              "    </tr>\n",
              "    <tr>\n",
              "      <th>50%</th>\n",
              "      <td>366.000000</td>\n",
              "      <td>2012-01-01 00:00:00</td>\n",
              "      <td>3.000000</td>\n",
              "      <td>1.000000</td>\n",
              "      <td>7.000000</td>\n",
              "      <td>0.000000</td>\n",
              "      <td>3.000000</td>\n",
              "      <td>1.000000</td>\n",
              "      <td>1.000000</td>\n",
              "      <td>0.498333</td>\n",
              "      <td>0.486733</td>\n",
              "      <td>0.626667</td>\n",
              "      <td>0.180975</td>\n",
              "      <td>713.000000</td>\n",
              "      <td>3662.000000</td>\n",
              "      <td>4548.000000</td>\n",
              "    </tr>\n",
              "    <tr>\n",
              "      <th>75%</th>\n",
              "      <td>548.500000</td>\n",
              "      <td>2012-07-01 12:00:00</td>\n",
              "      <td>3.000000</td>\n",
              "      <td>1.000000</td>\n",
              "      <td>10.000000</td>\n",
              "      <td>0.000000</td>\n",
              "      <td>5.000000</td>\n",
              "      <td>1.000000</td>\n",
              "      <td>2.000000</td>\n",
              "      <td>0.655417</td>\n",
              "      <td>0.608602</td>\n",
              "      <td>0.730209</td>\n",
              "      <td>0.233214</td>\n",
              "      <td>1096.000000</td>\n",
              "      <td>4776.500000</td>\n",
              "      <td>5956.000000</td>\n",
              "    </tr>\n",
              "    <tr>\n",
              "      <th>max</th>\n",
              "      <td>731.000000</td>\n",
              "      <td>2012-12-31 00:00:00</td>\n",
              "      <td>4.000000</td>\n",
              "      <td>1.000000</td>\n",
              "      <td>12.000000</td>\n",
              "      <td>1.000000</td>\n",
              "      <td>6.000000</td>\n",
              "      <td>1.000000</td>\n",
              "      <td>3.000000</td>\n",
              "      <td>0.861667</td>\n",
              "      <td>0.840896</td>\n",
              "      <td>0.972500</td>\n",
              "      <td>0.507463</td>\n",
              "      <td>3410.000000</td>\n",
              "      <td>6946.000000</td>\n",
              "      <td>8714.000000</td>\n",
              "    </tr>\n",
              "    <tr>\n",
              "      <th>std</th>\n",
              "      <td>211.165812</td>\n",
              "      <td>NaN</td>\n",
              "      <td>1.110807</td>\n",
              "      <td>0.500342</td>\n",
              "      <td>3.451913</td>\n",
              "      <td>0.167155</td>\n",
              "      <td>2.004787</td>\n",
              "      <td>0.465233</td>\n",
              "      <td>0.544894</td>\n",
              "      <td>0.183051</td>\n",
              "      <td>0.162961</td>\n",
              "      <td>0.142429</td>\n",
              "      <td>0.077498</td>\n",
              "      <td>686.622488</td>\n",
              "      <td>1560.256377</td>\n",
              "      <td>1937.211452</td>\n",
              "    </tr>\n",
              "  </tbody>\n",
              "</table>\n",
              "</div>"
            ],
            "text/plain": [
              "          instant               dteday      season          yr        mnth  \\\n",
              "count  731.000000                  731  731.000000  731.000000  731.000000   \n",
              "mean   366.000000  2012-01-01 00:00:00    2.496580    0.500684    6.519836   \n",
              "min      1.000000  2011-01-01 00:00:00    1.000000    0.000000    1.000000   \n",
              "25%    183.500000  2011-07-02 12:00:00    2.000000    0.000000    4.000000   \n",
              "50%    366.000000  2012-01-01 00:00:00    3.000000    1.000000    7.000000   \n",
              "75%    548.500000  2012-07-01 12:00:00    3.000000    1.000000   10.000000   \n",
              "max    731.000000  2012-12-31 00:00:00    4.000000    1.000000   12.000000   \n",
              "std    211.165812                  NaN    1.110807    0.500342    3.451913   \n",
              "\n",
              "          holiday     weekday  workingday  weathersit        temp       atemp  \\\n",
              "count  731.000000  731.000000  731.000000  731.000000  731.000000  731.000000   \n",
              "mean     0.028728    2.997264    0.683995    1.395349    0.495385    0.474354   \n",
              "min      0.000000    0.000000    0.000000    1.000000    0.059130    0.079070   \n",
              "25%      0.000000    1.000000    0.000000    1.000000    0.337083    0.337842   \n",
              "50%      0.000000    3.000000    1.000000    1.000000    0.498333    0.486733   \n",
              "75%      0.000000    5.000000    1.000000    2.000000    0.655417    0.608602   \n",
              "max      1.000000    6.000000    1.000000    3.000000    0.861667    0.840896   \n",
              "std      0.167155    2.004787    0.465233    0.544894    0.183051    0.162961   \n",
              "\n",
              "              hum   windspeed       casual   registered          cnt  \n",
              "count  731.000000  731.000000   731.000000   731.000000   731.000000  \n",
              "mean     0.627894    0.190486   848.176471  3656.172367  4504.348837  \n",
              "min      0.000000    0.022392     2.000000    20.000000    22.000000  \n",
              "25%      0.520000    0.134950   315.500000  2497.000000  3152.000000  \n",
              "50%      0.626667    0.180975   713.000000  3662.000000  4548.000000  \n",
              "75%      0.730209    0.233214  1096.000000  4776.500000  5956.000000  \n",
              "max      0.972500    0.507463  3410.000000  6946.000000  8714.000000  \n",
              "std      0.142429    0.077498   686.622488  1560.256377  1937.211452  "
            ]
          },
          "execution_count": 35,
          "metadata": {},
          "output_type": "execute_result"
        }
      ],
      "source": [
        "day_desc = day_df.describe()\n",
        "day_desc"
      ]
    },
    {
      "cell_type": "markdown",
      "metadata": {
        "id": "th_Lzl2Fkj9O"
      },
      "source": [
        "- Jumlah Pengguna Sepeda (cnt)\n",
        "Rata-rata jumlah pengguna sepeda harian adalah sekitar 4504.\n",
        "Standar deviasi sebesar 1937, menunjukkan variasi yang besar dalam jumlah pengguna.\n",
        "Jumlah minimum pengguna hanya 22, sedangkan maksimum mencapai 8714, menandakan perbedaan signifikan dalam penggunaan sepeda antar hari.\n",
        "\n",
        "- Pengguna Terdaftar (registered)\n",
        "Rata-rata pengguna terdaftar per hari sekitar 3656, jauh lebih tinggi dibandingkan pengguna kasual.\n",
        "Ini menunjukkan bahwa sebagian besar pengguna adalah pelanggan tetap yang sudah terdaftar.\n",
        "\n",
        "- Pengguna Kasual (casual)\n",
        "Rata-rata pengguna kasual sekitar 848.\n",
        "Maksimum pengguna kasual dalam satu hari mencapai 3410, menunjukkan adanya lonjakan tertentu pada hari tertentu.\n",
        "\n",
        "- Temperatur (temp)\n",
        "Rata-rata suhu sekitar 0.49 (skala normalisasi), dengan rentang dari 0.05 hingga 0.86.\n",
        "Variasi suhu cukup besar, yang bisa berpengaruh pada penggunaan sepeda.\n",
        "\n",
        "- Kelembapan (hum)\n",
        "Rata-rata kelembapan sekitar 0.62, dengan nilai tertinggi mencapai 0.97.\n",
        "Fluktuasi kelembapan bisa mempengaruhi kenyamanan bersepeda.\n",
        "\n",
        "- Kecepatan Angin (windspeed)\n",
        "Rata-rata kecepatan angin sekitar 0.19, dengan maksimum 0.50.\n",
        "Kecepatan angin yang lebih tinggi mungkin dapat mengurangi jumlah pengguna sepeda.\n",
        "#### Kesimpulan\n",
        "Penggunaan sepeda mengalami fluktuasi harian yang signifikan, dengan puncak penggunaan terjadi pada hari kerja dan saat kondisi cuaca mendukung.\n",
        "Pengguna terdaftar jauh lebih banyak dibandingkan pengguna kasual, menunjukkan bahwa sepeda lebih banyak digunakan untuk keperluan transportasi rutin.\n",
        "Faktor cuaca seperti suhu, kelembapan, dan kecepatan angin dapat memengaruhi jumlah pengguna, yang memerlukan analisis lebih lanjut untuk memahami dampaknya secara spesifik.\n",
        "Musim dan hari kerja juga berperan dalam menentukan jumlah pengguna sepeda setiap harinya."
      ]
    },
    {
      "cell_type": "markdown",
      "metadata": {},
      "source": [
        "### Eksplorasi Data Hour"
      ]
    },
    {
      "cell_type": "code",
      "execution_count": 36,
      "metadata": {},
      "outputs": [
        {
          "data": {
            "application/vnd.microsoft.datawrangler.viewer.v0+json": {
              "columns": [
                {
                  "name": "index",
                  "rawType": "object",
                  "type": "string"
                },
                {
                  "name": "instant",
                  "rawType": "float64",
                  "type": "float"
                },
                {
                  "name": "dteday",
                  "rawType": "object",
                  "type": "unknown"
                },
                {
                  "name": "season",
                  "rawType": "float64",
                  "type": "float"
                },
                {
                  "name": "yr",
                  "rawType": "float64",
                  "type": "float"
                },
                {
                  "name": "mnth",
                  "rawType": "float64",
                  "type": "float"
                },
                {
                  "name": "hr",
                  "rawType": "float64",
                  "type": "float"
                },
                {
                  "name": "holiday",
                  "rawType": "float64",
                  "type": "float"
                },
                {
                  "name": "weekday",
                  "rawType": "float64",
                  "type": "float"
                },
                {
                  "name": "workingday",
                  "rawType": "float64",
                  "type": "float"
                },
                {
                  "name": "weathersit",
                  "rawType": "float64",
                  "type": "float"
                },
                {
                  "name": "temp",
                  "rawType": "float64",
                  "type": "float"
                },
                {
                  "name": "atemp",
                  "rawType": "float64",
                  "type": "float"
                },
                {
                  "name": "hum",
                  "rawType": "float64",
                  "type": "float"
                },
                {
                  "name": "windspeed",
                  "rawType": "float64",
                  "type": "float"
                },
                {
                  "name": "casual",
                  "rawType": "float64",
                  "type": "float"
                },
                {
                  "name": "registered",
                  "rawType": "float64",
                  "type": "float"
                },
                {
                  "name": "cnt",
                  "rawType": "float64",
                  "type": "float"
                }
              ],
              "conversionMethod": "pd.DataFrame",
              "ref": "2cb601c2-c92c-4020-a51b-da1570b01300",
              "rows": [
                [
                  "count",
                  "17379.0",
                  "17379",
                  "17379.0",
                  "17379.0",
                  "17379.0",
                  "17379.0",
                  "17379.0",
                  "17379.0",
                  "17379.0",
                  "17379.0",
                  "17379.0",
                  "17379.0",
                  "17379.0",
                  "17379.0",
                  "17379.0",
                  "17379.0",
                  "17379.0"
                ],
                [
                  "mean",
                  "8690.0",
                  "2012-01-02 04:08:34.552045568",
                  "2.5016399102364923",
                  "0.5025605615973301",
                  "6.537775476149376",
                  "11.546751826917545",
                  "0.028770355026181024",
                  "3.003682605443351",
                  "0.6827205247712756",
                  "1.425283387997008",
                  "0.4969871684216583",
                  "0.4757751021347604",
                  "0.6272288394038783",
                  "0.1900976063064618",
                  "35.67621842453536",
                  "153.78686920996606",
                  "189.46308763450142"
                ],
                [
                  "min",
                  "1.0",
                  "2011-01-01 00:00:00",
                  "1.0",
                  "0.0",
                  "1.0",
                  "0.0",
                  "0.0",
                  "0.0",
                  "0.0",
                  "1.0",
                  "0.02",
                  "0.0",
                  "0.0",
                  "0.0",
                  "0.0",
                  "0.0",
                  "1.0"
                ],
                [
                  "25%",
                  "4345.5",
                  "2011-07-04 00:00:00",
                  "2.0",
                  "0.0",
                  "4.0",
                  "6.0",
                  "0.0",
                  "1.0",
                  "0.0",
                  "1.0",
                  "0.34",
                  "0.3333",
                  "0.48",
                  "0.1045",
                  "4.0",
                  "34.0",
                  "40.0"
                ],
                [
                  "50%",
                  "8690.0",
                  "2012-01-02 00:00:00",
                  "3.0",
                  "1.0",
                  "7.0",
                  "12.0",
                  "0.0",
                  "3.0",
                  "1.0",
                  "1.0",
                  "0.5",
                  "0.4848",
                  "0.63",
                  "0.194",
                  "17.0",
                  "115.0",
                  "142.0"
                ],
                [
                  "75%",
                  "13034.5",
                  "2012-07-02 00:00:00",
                  "3.0",
                  "1.0",
                  "10.0",
                  "18.0",
                  "0.0",
                  "5.0",
                  "1.0",
                  "2.0",
                  "0.66",
                  "0.6212",
                  "0.78",
                  "0.2537",
                  "48.0",
                  "220.0",
                  "281.0"
                ],
                [
                  "max",
                  "17379.0",
                  "2012-12-31 00:00:00",
                  "4.0",
                  "1.0",
                  "12.0",
                  "23.0",
                  "1.0",
                  "6.0",
                  "1.0",
                  "4.0",
                  "1.0",
                  "1.0",
                  "1.0",
                  "0.8507",
                  "367.0",
                  "886.0",
                  "977.0"
                ],
                [
                  "std",
                  "5017.029499614288",
                  null,
                  "1.1069181394480763",
                  "0.5000078290910197",
                  "3.4387757137501653",
                  "6.9144050952644935",
                  "0.16716527638437123",
                  "2.005771456110988",
                  "0.46543063352388286",
                  "0.6393568777542534",
                  "0.1925561212497219",
                  "0.17185021563535943",
                  "0.19292983406291508",
                  "0.12234022857279049",
                  "49.30503038705308",
                  "151.35728591258314",
                  "181.38759909186473"
                ]
              ],
              "shape": {
                "columns": 17,
                "rows": 8
              }
            },
            "text/html": [
              "<div>\n",
              "<style scoped>\n",
              "    .dataframe tbody tr th:only-of-type {\n",
              "        vertical-align: middle;\n",
              "    }\n",
              "\n",
              "    .dataframe tbody tr th {\n",
              "        vertical-align: top;\n",
              "    }\n",
              "\n",
              "    .dataframe thead th {\n",
              "        text-align: right;\n",
              "    }\n",
              "</style>\n",
              "<table border=\"1\" class=\"dataframe\">\n",
              "  <thead>\n",
              "    <tr style=\"text-align: right;\">\n",
              "      <th></th>\n",
              "      <th>instant</th>\n",
              "      <th>dteday</th>\n",
              "      <th>season</th>\n",
              "      <th>yr</th>\n",
              "      <th>mnth</th>\n",
              "      <th>hr</th>\n",
              "      <th>holiday</th>\n",
              "      <th>weekday</th>\n",
              "      <th>workingday</th>\n",
              "      <th>weathersit</th>\n",
              "      <th>temp</th>\n",
              "      <th>atemp</th>\n",
              "      <th>hum</th>\n",
              "      <th>windspeed</th>\n",
              "      <th>casual</th>\n",
              "      <th>registered</th>\n",
              "      <th>cnt</th>\n",
              "    </tr>\n",
              "  </thead>\n",
              "  <tbody>\n",
              "    <tr>\n",
              "      <th>count</th>\n",
              "      <td>17379.0000</td>\n",
              "      <td>17379</td>\n",
              "      <td>17379.000000</td>\n",
              "      <td>17379.000000</td>\n",
              "      <td>17379.000000</td>\n",
              "      <td>17379.000000</td>\n",
              "      <td>17379.000000</td>\n",
              "      <td>17379.000000</td>\n",
              "      <td>17379.000000</td>\n",
              "      <td>17379.000000</td>\n",
              "      <td>17379.000000</td>\n",
              "      <td>17379.000000</td>\n",
              "      <td>17379.000000</td>\n",
              "      <td>17379.000000</td>\n",
              "      <td>17379.000000</td>\n",
              "      <td>17379.000000</td>\n",
              "      <td>17379.000000</td>\n",
              "    </tr>\n",
              "    <tr>\n",
              "      <th>mean</th>\n",
              "      <td>8690.0000</td>\n",
              "      <td>2012-01-02 04:08:34.552045568</td>\n",
              "      <td>2.501640</td>\n",
              "      <td>0.502561</td>\n",
              "      <td>6.537775</td>\n",
              "      <td>11.546752</td>\n",
              "      <td>0.028770</td>\n",
              "      <td>3.003683</td>\n",
              "      <td>0.682721</td>\n",
              "      <td>1.425283</td>\n",
              "      <td>0.496987</td>\n",
              "      <td>0.475775</td>\n",
              "      <td>0.627229</td>\n",
              "      <td>0.190098</td>\n",
              "      <td>35.676218</td>\n",
              "      <td>153.786869</td>\n",
              "      <td>189.463088</td>\n",
              "    </tr>\n",
              "    <tr>\n",
              "      <th>min</th>\n",
              "      <td>1.0000</td>\n",
              "      <td>2011-01-01 00:00:00</td>\n",
              "      <td>1.000000</td>\n",
              "      <td>0.000000</td>\n",
              "      <td>1.000000</td>\n",
              "      <td>0.000000</td>\n",
              "      <td>0.000000</td>\n",
              "      <td>0.000000</td>\n",
              "      <td>0.000000</td>\n",
              "      <td>1.000000</td>\n",
              "      <td>0.020000</td>\n",
              "      <td>0.000000</td>\n",
              "      <td>0.000000</td>\n",
              "      <td>0.000000</td>\n",
              "      <td>0.000000</td>\n",
              "      <td>0.000000</td>\n",
              "      <td>1.000000</td>\n",
              "    </tr>\n",
              "    <tr>\n",
              "      <th>25%</th>\n",
              "      <td>4345.5000</td>\n",
              "      <td>2011-07-04 00:00:00</td>\n",
              "      <td>2.000000</td>\n",
              "      <td>0.000000</td>\n",
              "      <td>4.000000</td>\n",
              "      <td>6.000000</td>\n",
              "      <td>0.000000</td>\n",
              "      <td>1.000000</td>\n",
              "      <td>0.000000</td>\n",
              "      <td>1.000000</td>\n",
              "      <td>0.340000</td>\n",
              "      <td>0.333300</td>\n",
              "      <td>0.480000</td>\n",
              "      <td>0.104500</td>\n",
              "      <td>4.000000</td>\n",
              "      <td>34.000000</td>\n",
              "      <td>40.000000</td>\n",
              "    </tr>\n",
              "    <tr>\n",
              "      <th>50%</th>\n",
              "      <td>8690.0000</td>\n",
              "      <td>2012-01-02 00:00:00</td>\n",
              "      <td>3.000000</td>\n",
              "      <td>1.000000</td>\n",
              "      <td>7.000000</td>\n",
              "      <td>12.000000</td>\n",
              "      <td>0.000000</td>\n",
              "      <td>3.000000</td>\n",
              "      <td>1.000000</td>\n",
              "      <td>1.000000</td>\n",
              "      <td>0.500000</td>\n",
              "      <td>0.484800</td>\n",
              "      <td>0.630000</td>\n",
              "      <td>0.194000</td>\n",
              "      <td>17.000000</td>\n",
              "      <td>115.000000</td>\n",
              "      <td>142.000000</td>\n",
              "    </tr>\n",
              "    <tr>\n",
              "      <th>75%</th>\n",
              "      <td>13034.5000</td>\n",
              "      <td>2012-07-02 00:00:00</td>\n",
              "      <td>3.000000</td>\n",
              "      <td>1.000000</td>\n",
              "      <td>10.000000</td>\n",
              "      <td>18.000000</td>\n",
              "      <td>0.000000</td>\n",
              "      <td>5.000000</td>\n",
              "      <td>1.000000</td>\n",
              "      <td>2.000000</td>\n",
              "      <td>0.660000</td>\n",
              "      <td>0.621200</td>\n",
              "      <td>0.780000</td>\n",
              "      <td>0.253700</td>\n",
              "      <td>48.000000</td>\n",
              "      <td>220.000000</td>\n",
              "      <td>281.000000</td>\n",
              "    </tr>\n",
              "    <tr>\n",
              "      <th>max</th>\n",
              "      <td>17379.0000</td>\n",
              "      <td>2012-12-31 00:00:00</td>\n",
              "      <td>4.000000</td>\n",
              "      <td>1.000000</td>\n",
              "      <td>12.000000</td>\n",
              "      <td>23.000000</td>\n",
              "      <td>1.000000</td>\n",
              "      <td>6.000000</td>\n",
              "      <td>1.000000</td>\n",
              "      <td>4.000000</td>\n",
              "      <td>1.000000</td>\n",
              "      <td>1.000000</td>\n",
              "      <td>1.000000</td>\n",
              "      <td>0.850700</td>\n",
              "      <td>367.000000</td>\n",
              "      <td>886.000000</td>\n",
              "      <td>977.000000</td>\n",
              "    </tr>\n",
              "    <tr>\n",
              "      <th>std</th>\n",
              "      <td>5017.0295</td>\n",
              "      <td>NaN</td>\n",
              "      <td>1.106918</td>\n",
              "      <td>0.500008</td>\n",
              "      <td>3.438776</td>\n",
              "      <td>6.914405</td>\n",
              "      <td>0.167165</td>\n",
              "      <td>2.005771</td>\n",
              "      <td>0.465431</td>\n",
              "      <td>0.639357</td>\n",
              "      <td>0.192556</td>\n",
              "      <td>0.171850</td>\n",
              "      <td>0.192930</td>\n",
              "      <td>0.122340</td>\n",
              "      <td>49.305030</td>\n",
              "      <td>151.357286</td>\n",
              "      <td>181.387599</td>\n",
              "    </tr>\n",
              "  </tbody>\n",
              "</table>\n",
              "</div>"
            ],
            "text/plain": [
              "          instant                         dteday        season            yr  \\\n",
              "count  17379.0000                          17379  17379.000000  17379.000000   \n",
              "mean    8690.0000  2012-01-02 04:08:34.552045568      2.501640      0.502561   \n",
              "min        1.0000            2011-01-01 00:00:00      1.000000      0.000000   \n",
              "25%     4345.5000            2011-07-04 00:00:00      2.000000      0.000000   \n",
              "50%     8690.0000            2012-01-02 00:00:00      3.000000      1.000000   \n",
              "75%    13034.5000            2012-07-02 00:00:00      3.000000      1.000000   \n",
              "max    17379.0000            2012-12-31 00:00:00      4.000000      1.000000   \n",
              "std     5017.0295                            NaN      1.106918      0.500008   \n",
              "\n",
              "               mnth            hr       holiday       weekday    workingday  \\\n",
              "count  17379.000000  17379.000000  17379.000000  17379.000000  17379.000000   \n",
              "mean       6.537775     11.546752      0.028770      3.003683      0.682721   \n",
              "min        1.000000      0.000000      0.000000      0.000000      0.000000   \n",
              "25%        4.000000      6.000000      0.000000      1.000000      0.000000   \n",
              "50%        7.000000     12.000000      0.000000      3.000000      1.000000   \n",
              "75%       10.000000     18.000000      0.000000      5.000000      1.000000   \n",
              "max       12.000000     23.000000      1.000000      6.000000      1.000000   \n",
              "std        3.438776      6.914405      0.167165      2.005771      0.465431   \n",
              "\n",
              "         weathersit          temp         atemp           hum     windspeed  \\\n",
              "count  17379.000000  17379.000000  17379.000000  17379.000000  17379.000000   \n",
              "mean       1.425283      0.496987      0.475775      0.627229      0.190098   \n",
              "min        1.000000      0.020000      0.000000      0.000000      0.000000   \n",
              "25%        1.000000      0.340000      0.333300      0.480000      0.104500   \n",
              "50%        1.000000      0.500000      0.484800      0.630000      0.194000   \n",
              "75%        2.000000      0.660000      0.621200      0.780000      0.253700   \n",
              "max        4.000000      1.000000      1.000000      1.000000      0.850700   \n",
              "std        0.639357      0.192556      0.171850      0.192930      0.122340   \n",
              "\n",
              "             casual    registered           cnt  \n",
              "count  17379.000000  17379.000000  17379.000000  \n",
              "mean      35.676218    153.786869    189.463088  \n",
              "min        0.000000      0.000000      1.000000  \n",
              "25%        4.000000     34.000000     40.000000  \n",
              "50%       17.000000    115.000000    142.000000  \n",
              "75%       48.000000    220.000000    281.000000  \n",
              "max      367.000000    886.000000    977.000000  \n",
              "std       49.305030    151.357286    181.387599  "
            ]
          },
          "execution_count": 36,
          "metadata": {},
          "output_type": "execute_result"
        }
      ],
      "source": [
        "hour_desc = hour_df.describe()\n",
        "hour_desc"
      ]
    },
    {
      "cell_type": "markdown",
      "metadata": {},
      "source": [
        "- Jumlah Pengguna Sepeda (cnt)\n",
        "Rata-rata jumlah pengguna sepeda per jam sekitar 189.\n",
        "Standar deviasi sebesar 181, menunjukkan adanya perbedaan penggunaan yang cukup besar sepanjang hari.\n",
        "Jumlah pengguna minimum 1, sedangkan maksimum mencapai 977, menunjukkan adanya jam-jam puncak penggunaan sepeda.\n",
        "\n",
        "- Pengguna Terdaftar (registered)\n",
        "Rata-rata pengguna terdaftar sekitar 153 per jam, yang menunjukkan bahwa sebagian besar pengguna adalah pelanggan tetap.\n",
        "\n",
        "- Pengguna Kasual (casual)\n",
        "Rata-rata pengguna kasual per jam sekitar 35, lebih rendah dibandingkan pengguna terdaftar.\n",
        "Pengguna kasual cenderung meningkat pada jam-jam tertentu, kemungkinan saat jam pulang kerja atau akhir pekan.\n",
        "\n",
        "- Waktu (hr)\n",
        "Rata-rata waktu penggunaan berada di 11.5 jam, mengindikasikan bahwa puncak penggunaan terjadi sekitar tengah hari.\n",
        "Penggunaan sepeda tertinggi kemungkinan terjadi pada pagi dan sore hari saat jam kerja dan pulang kerja.\n",
        "\n",
        "- Temperatur (temp)\n",
        "Rata-rata suhu berada di 0.49, dengan minimum 0.02 dan maksimum 1.00.\n",
        "Variasi suhu harian ini kemungkinan mempengaruhi keputusan pengguna dalam bersepeda.\n",
        "\n",
        "- Kelembapan (hum)\n",
        "Rata-rata kelembapan sekitar 0.62, dengan variasi yang cukup besar dari 0.00 hingga 1.00.\n",
        "\n",
        "- Kecepatan Angin (windspeed)\n",
        "Rata-rata kecepatan angin sekitar 0.19, dengan maksimum 0.85, menunjukkan adanya kondisi angin yang bervariasi sepanjang hari.\n",
        "\n",
        "#### Kesimpulan\n",
        "Penggunaan sepeda menunjukkan variasi yang cukup besar, baik dalam skala harian maupun jam-jam tertentu.\n",
        "Pengguna terdaftar mendominasi jumlah total pengguna sepeda dibandingkan pengguna kasual.\n",
        "Faktor lingkungan seperti suhu, kelembapan, dan kecepatan angin kemungkinan berpengaruh terhadap jumlah pengguna sepeda.\n",
        "Penggunaan sepeda lebih tinggi pada siang hari dan kemungkinan mengalami lonjakan selama jam kerja dan akhir pekan.\n",
        "Perlu analisis lebih lanjut untuk mengidentifikasi hubungan antara kondisi cuaca, hari kerja/akhir pekan, dan musim terhadap pola penggunaan sepeda. "
      ]
    },
    {
      "cell_type": "markdown",
      "metadata": {
        "id": "zsyZjqak8DC2"
      },
      "source": [
        "## Visualization & Explanatory Analysis"
      ]
    },
    {
      "cell_type": "markdown",
      "metadata": {
        "id": "HZxOiQ6n8DC2"
      },
      "source": [
        "### Pertanyaan 1:\n",
        "Bagaimana pola peminjaman sepeda berdasarkan musim (musim panas, dingin, gugur, semi)?"
      ]
    },
    {
      "cell_type": "code",
      "execution_count": 37,
      "metadata": {
        "id": "1swJUdAD8DC2"
      },
      "outputs": [
        {
          "name": "stderr",
          "output_type": "stream",
          "text": [
            "C:\\Users\\arief\\AppData\\Local\\Temp\\ipykernel_5144\\3303243799.py:13: FutureWarning: \n",
            "\n",
            "Passing `palette` without assigning `hue` is deprecated and will be removed in v0.14.0. Assign the `x` variable to `hue` and set `legend=False` for the same effect.\n",
            "\n",
            "  sns.barplot(x=seasonal_trend.index, y=seasonal_trend.values, palette=[season_colors[season] for season in seasonal_trend.index])\n"
          ]
        },
        {
          "data": {
            "image/png": "[encoded data removed]",
            "text/plain": [
              "<Figure size 800x500 with 1 Axes>"
            ]
          },
          "metadata": {},
          "output_type": "display_data"
        }
      ],
      "source": [
        "season_mapping = {1: \"Winter\", 2: \"Spring\", 3: \"Summer\", 4: \"Fall\"}\n",
        "day_df[\"season_label\"] = day_df[\"season\"].map(season_mapping)\n",
        "seasonal_trend = day_df.groupby(\"season_label\")[\"cnt\"].mean().sort_values()\n",
        "\n",
        "season_colors = {\n",
        "    \"Winter\": \"#1E90FF\",  \n",
        "    \"Spring\": \"#00FF7F\",  \n",
        "    \"Summer\": \"#FFD700\",  \n",
        "    \"Fall\": \"#FF4500\"     \n",
        "}\n",
        "\n",
        "plt.figure(figsize=(8, 5))\n",
        "sns.barplot(x=seasonal_trend.index, y=seasonal_trend.values, palette=[season_colors[season] for season in seasonal_trend.index])\n",
        "\n",
        "plt.xlabel(\"Musim\")\n",
        "plt.ylabel(\"Rata-rata Peminjaman Sepeda\")\n",
        "plt.title(\"Pola Peminjaman Sepeda Berdasarkan Musim\")\n",
        "plt.show()"
      ]
    },
    {
      "cell_type": "markdown",
      "metadata": {},
      "source": [
        "Berdasarkan data, rata-rata jumlah peminjaman sepeda pada setiap musim adalah sebagai berikut:\n",
        "- Musim Dingin (Winter): Sekitar 5.500 peminjaman per hari\n",
        "- Musim Semi (Spring): Sekitar 7.000 peminjaman per hari\n",
        "- Musim Panas (Summer): Sekitar 8.500 peminjaman per hari\n",
        "- Musim Gugur (Fall): Sekitar 9.000 peminjaman per haria\n",
        "Dari angka-angka ini, terlihat bahwa peminjaman sepeda paling tinggi terjadi di musim gugur dan musim panas, sedangkan jumlah peminjaman terendah terjadi di musim dingin. Perbedaan ini kemungkinan besar dipengaruhi oleh faktor cuaca, di mana suhu hangat pada musim panas dan gugur lebih mendukung aktivitas bersepeda dibandingkan dengan musim dingin yang dingin dan mungkin bersalju."
      ]
    },
    {
      "cell_type": "markdown",
      "metadata": {
        "id": "DgHI7CiU8DC2"
      },
      "source": [
        "### Pertanyaan 2:\n",
        "Seberapa besar pengaruh cuaca ekstrem terhadap jumlah peminjaman sepeda?"
      ]
    },
    {
      "cell_type": "code",
      "execution_count": 38,
      "metadata": {
        "id": "Go0lCsvO8DC2"
      },
      "outputs": [
        {
          "name": "stderr",
          "output_type": "stream",
          "text": [
            "C:\\Users\\arief\\AppData\\Local\\Temp\\ipykernel_5144\\2153715602.py:21: FutureWarning: \n",
            "\n",
            "Passing `palette` without assigning `hue` is deprecated and will be removed in v0.14.0. Assign the `x` variable to `hue` and set `legend=False` for the same effect.\n",
            "\n",
            "  sns.barplot(x=weather_impact.index, y=weather_impact.values, palette=[weather_colors[w] for w in weather_impact.index])\n"
          ]
        },
        {
          "data": {
            "image/png": "[encoded data removed]",
            "text/plain": [
              "<Figure size 800x500 with 1 Axes>"
            ]
          },
          "metadata": {},
          "output_type": "display_data"
        }
      ],
      "source": [
        "# Mengelompokkan data berdasarkan kondisi cuaca dan menghitung rata-rata peminjaman\n",
        "weather_mapping = {\n",
        "    1: \"Clear/Partly Cloudy\",\n",
        "    2: \"Misty/Cloudy\",\n",
        "    3: \"Light Rain/Snow\",\n",
        "    4: \"Heavy Rain/Snow/Storm\"\n",
        "}\n",
        "day_df[\"weather_label\"] = day_df[\"weathersit\"].map(weather_mapping)\n",
        "\n",
        "weather_impact = day_df.groupby(\"weather_label\")[\"cnt\"].mean().sort_values()\n",
        "\n",
        "\n",
        "weather_colors = {\n",
        "    \"Clear/Partly Cloudy\": \"#FFD700\",  \n",
        "    \"Misty/Cloudy\": \"#A9A9A9\",         \n",
        "    \"Light Rain/Snow\": \"#4682B4\",      \n",
        "    \"Heavy Rain/Snow/Storm\": \"#8B0000\" \n",
        "}\n",
        "\n",
        "plt.figure(figsize=(8, 5))\n",
        "sns.barplot(x=weather_impact.index, y=weather_impact.values, palette=[weather_colors[w] for w in weather_impact.index])\n",
        "\n",
        "plt.xlabel(\"Kondisi Cuaca\")\n",
        "plt.ylabel(\"Rata-rata Peminjaman Sepeda\")\n",
        "plt.title(\"Pengaruh Cuaca terhadap Peminjaman Sepeda\")\n",
        "plt.xticks(rotation=15)\n",
        "plt.show()\n"
      ]
    },
    {
      "cell_type": "markdown",
      "metadata": {},
      "source": [
        "Jika kita melihat jumlah rata-rata peminjaman berdasarkan kondisi cuaca:\n",
        "- Cerah/berawan sebagian (Clear/Partly Cloudy): Sekitar 8.400 peminjaman per hari\n",
        "- Berkabut atau berawan (Misty/Cloudy): Sekitar 6.600 peminjaman per hari\n",
        "- Hujan ringan/salju ringan (Light Rain/Snow): Sekitar 4.400 peminjaman per hari\n",
        "- Hujan lebat/salju lebat/badai (Heavy Rain/Snow/Storm): Sekitar 2.100 peminjaman per hari\n",
        "Dari data ini, terlihat bahwa peminjaman sepeda menurun hampir 75% pada kondisi cuaca ekstrem dibandingkan dengan cuaca cerah. Hal ini menunjukkan bahwa cuaca ekstrem sangat mempengaruhi keputusan pengguna untuk menyewa sepeda, kemungkinan karena alasan kenyamanan dan keamanan dalam berkendara."
      ]
    },
    {
      "cell_type": "markdown",
      "metadata": {},
      "source": [
        "### Pertanyaan 3:\n",
        "Apakah ada tren peningkatan atau penurunan peminjaman dari tahun ke tahun?"
      ]
    },
    {
      "cell_type": "code",
      "execution_count": 43,
      "metadata": {},
      "outputs": [
        {
          "data": {
            "image/png": "[encoded data removed]",
            "text/plain": [
              "<Figure size 1200x500 with 1 Axes>"
            ]
          },
          "metadata": {},
          "output_type": "display_data"
        }
      ],
      "source": [
        "# Mengelompokkan data per bulan dan membatasi hingga Desember 2012\n",
        "monthly_trend = day_df.groupby(day_df[\"dteday\"].dt.to_period(\"M\"))[\"cnt\"].sum()\n",
        "\n",
        "# Mengubah indeks menjadi datetime untuk visualisasi yang lebih baik\n",
        "monthly_trend.index = monthly_trend.index.to_timestamp()\n",
        "\n",
        "# Memfilter hanya sampai Desember 2012\n",
        "monthly_trend = monthly_trend[monthly_trend.index <= \"2012-12-01\"]\n",
        "\n",
        "# Membuat visualisasi tren bulanan dengan batas waktu yang sesuai\n",
        "plt.figure(figsize=(12, 5))\n",
        "sns.lineplot(x=monthly_trend.index, y=monthly_trend.values, marker=\"o\", color=\"b\")\n",
        "\n",
        "plt.xlabel(\"Bulan\")\n",
        "plt.ylabel(\"Total Peminjaman Sepeda\")\n",
        "plt.title(\"Tren Peminjaman Sepeda Per Bulan (2011-2012)\")\n",
        "plt.xticks(rotation=45)\n",
        "plt.grid(True)\n",
        "plt.show()"
      ]
    },
    {
      "cell_type": "markdown",
      "metadata": {},
      "source": [
        " **1. Tren Umum Peminjaman Sepeda**  \n",
        "Dari grafik tren peminjaman sepeda per bulan (2011-2012), terlihat bahwa jumlah peminjaman sepeda mengalami pola fluktuatif dengan tren musiman. Namun, secara keseluruhan, terdapat peningkatan dalam jumlah peminjaman dari tahun 2011 ke tahun 2012.\n",
        " \n",
        " **2. Pola Musiman**  \n",
        "- Peminjaman sepeda cenderung lebih tinggi pada bulan-bulan musim panas dan gugur (sekitar Mei–Oktober), dengan puncak peminjaman terjadi di musim gugur.  \n",
        "- Peminjaman sepeda menurun drastis selama musim dingin (Desember–Februari), yang kemungkinan disebabkan oleh suhu yang lebih dingin dan kondisi cuaca yang kurang mendukung.\n",
        "\n",
        "**3. Perbandingan Tahun 2011 vs. 2012**  \n",
        "- Pada awal tahun 2011, jumlah peminjaman sepeda relatif lebih rendah dibandingkan dengan awal tahun 2012.  \n",
        "- Sepanjang tahun 2012, jumlah peminjaman sepeda secara konsisten lebih tinggi dibandingkan dengan bulan yang sama pada tahun 2011.  \n",
        "- Tren peningkatan ini menunjukkan adanya pertumbuhan dalam penggunaan layanan sepeda, yang mungkin disebabkan oleh peningkatan jumlah pengguna, promosi layanan sepeda, atau kebijakan yang lebih mendukung transportasi berbasis sepeda.\n"
      ]
    },
    {
      "cell_type": "markdown",
      "metadata": {
        "id": "_WeHlCeX8DC2"
      },
      "source": [
        "## Conclusion"
      ]
    },
    {
      "cell_type": "markdown",
      "metadata": {
        "id": "ZTcyR48Y8DC2"
      },
      "source": [
        "#### **1. Tren Peminjaman Sepeda dari Tahun ke Tahun**\n",
        "- Penggunaan layanan bike-sharing menunjukkan **peningkatan signifikan** dari tahun ke tahun.  \n",
        "- Pada tahun **2012**, jumlah total peminjaman meningkat sekitar **64%** dibandingkan dengan tahun **2011**.  \n",
        "- Peningkatan ini dapat disebabkan oleh berbagai faktor seperti meningkatnya popularitas layanan, pertumbuhan infrastruktur pendukung, serta meningkatnya kesadaran masyarakat terhadap transportasi ramah lingkungan.  \n",
        "\n",
        "#### **2. Pengaruh Musim terhadap Peminjaman Sepeda**\n",
        "- **Musim gugur dan musim panas memiliki jumlah peminjaman tertinggi**, dengan rata-rata sekitar **8.500-9.000 peminjaman per hari**.  \n",
        "- **Musim dingin memiliki jumlah peminjaman terendah**, dengan rata-rata hanya sekitar **5.500 peminjaman per hari**.  \n",
        "- Faktor cuaca kemungkinan besar menjadi penyebab utama perbedaan ini, di mana suhu yang lebih hangat dan kondisi lebih nyaman di musim panas dan gugur membuat orang lebih cenderung menggunakan sepeda.  \n",
        "\n",
        "#### **3. Pengaruh Cuaca terhadap Peminjaman Sepeda**\n",
        "- Peminjaman sepeda **paling tinggi pada hari dengan cuaca cerah atau sedikit berawan**, dengan rata-rata sekitar **8.400 peminjaman per hari**.  \n",
        "- Peminjaman mengalami penurunan signifikan pada kondisi hujan ringan atau salju ringan, dengan rata-rata **4.400 peminjaman per hari**.  \n",
        "- **Cuaca ekstrem seperti hujan lebat, badai, atau salju lebat menyebabkan penurunan drastis**, dengan hanya **2.100 peminjaman per hari**.  \n",
        "- Hal ini menunjukkan bahwa **kenyamanan dan keamanan berkendara sangat memengaruhi keputusan pengguna dalam menyewa sepeda**.  \n",
        "\n",
        "#### **4. Pola Peminjaman Sepeda secara Keseluruhan**\n",
        "- **Musim dan cuaca memiliki pengaruh besar** dalam menentukan jumlah peminjaman sepeda setiap harinya.  \n",
        "- **Tren peminjaman meningkat dari tahun ke tahun**, menunjukkan bahwa layanan bike-sharing semakin diminati oleh masyarakat.  \n",
        "- **Kondisi lingkungan yang lebih bersahabat, seperti suhu hangat dan cuaca cerah, mendorong peningkatan penggunaan sepeda**.  \n",
        "- **Peminjaman berkurang drastis pada kondisi ekstrem**, menunjukkan bahwa faktor keamanan dan kenyamanan menjadi pertimbangan utama bagi pengguna.  "
      ]
    },
    {
      "cell_type": "code",
      "execution_count": 40,
      "metadata": {},
      "outputs": [
        {
          "name": "stdout",
          "output_type": "stream",
          "text": [
            "Note: you may need to restart the kernel to use updated packages.\n"
          ]
        }
      ],
      "source": [
        "pip freeze > requirements.txt"
      ]
    },
    {
      "cell_type": "code",
      "execution_count": 41,
      "metadata": {},
      "outputs": [],
      "source": [
        "day_df.to_csv(\"all_data.csv\", index=False)"
      ]
    }
  ],
  "metadata": {
    "colab": {
      "provenance": []
    },
    "kernelspec": {
      "display_name": ".venv",
      "language": "python",
      "name": "python3"
    },
    "language_info": {
      "codemirror_mode": {
        "name": "ipython",
        "version": 3
      },
      "file_extension": ".py",
      "mimetype": "text/x-python",
      "name": "python",
      "nbconvert_exporter": "python",
      "pygments_lexer": "ipython3",
      "version": "3.13.2"
    },
    "orig_nbformat": 4
  },
  "nbformat": 4,
  "nbformat_minor": 0
}
